{
 "cells": [
  {
   "cell_type": "code",
   "execution_count": 2,
   "metadata": {
    "id": "gT5UF0JWG_Sy"
   },
   "outputs": [],
   "source": [
    "import numpy as np\n",
    "import pandas as pd\n",
    "import random\n",
    "from sklearn.neighbors import KNeighborsClassifier\n",
    "from sklearn import metrics\n",
    "from sklearn import preprocessing\n",
    "from sklearn.model_selection import train_test_split\n",
    "from sklearn.metrics import confusion_matrix\n",
    "from sklearn.cluster import DBSCAN\n",
    "from sklearn.cluster import AgglomerativeClustering\n",
    "from ipywidgets import interact, IntSlider, fixed, FloatSlider\n",
    "import matplotlib.pyplot as plt"
   ]
  },
  {
   "cell_type": "code",
   "execution_count": 3,
   "metadata": {
    "colab": {
     "base_uri": "https://localhost:8080/",
     "height": 419
    },
    "id": "VwXUwb8xHt_o",
    "outputId": "2f8d1ceb-3ec1-4d85-f19e-7848540f43bf"
   },
   "outputs": [
    {
     "name": "stdout",
     "output_type": "stream",
     "text": [
      "<class 'pandas.core.frame.DataFrame'>\n",
      "RangeIndex: 25976 entries, 0 to 25975\n",
      "Data columns (total 25 columns):\n",
      "Unnamed: 0                           25976 non-null int64\n",
      "id                                   25976 non-null int64\n",
      "Gender                               25976 non-null object\n",
      "Customer Type                        25976 non-null object\n",
      "Age                                  25976 non-null int64\n",
      "Type of Travel                       25976 non-null object\n",
      "Class                                25976 non-null object\n",
      "Flight Distance                      25976 non-null int64\n",
      "Inflight wifi service                25976 non-null int64\n",
      "Departure/Arrival time convenient    25976 non-null int64\n",
      "Ease of Online booking               25976 non-null int64\n",
      "Gate location                        25976 non-null int64\n",
      "Food and drink                       25976 non-null int64\n",
      "Online boarding                      25976 non-null int64\n",
      "Seat comfort                         25976 non-null int64\n",
      "Inflight entertainment               25976 non-null int64\n",
      "On-board service                     25976 non-null int64\n",
      "Leg room service                     25976 non-null int64\n",
      "Baggage handling                     25976 non-null int64\n",
      "Checkin service                      25976 non-null int64\n",
      "Inflight service                     25976 non-null int64\n",
      "Cleanliness                          25976 non-null int64\n",
      "Departure Delay in Minutes           25976 non-null int64\n",
      "Arrival Delay in Minutes             25893 non-null float64\n",
      "satisfaction                         25976 non-null object\n",
      "dtypes: float64(1), int64(19), object(5)\n",
      "memory usage: 5.0+ MB\n"
     ]
    },
    {
     "data": {
      "text/html": [
       "<div>\n",
       "<style scoped>\n",
       "    .dataframe tbody tr th:only-of-type {\n",
       "        vertical-align: middle;\n",
       "    }\n",
       "\n",
       "    .dataframe tbody tr th {\n",
       "        vertical-align: top;\n",
       "    }\n",
       "\n",
       "    .dataframe thead th {\n",
       "        text-align: right;\n",
       "    }\n",
       "</style>\n",
       "<table border=\"1\" class=\"dataframe\">\n",
       "  <thead>\n",
       "    <tr style=\"text-align: right;\">\n",
       "      <th></th>\n",
       "      <th>Unnamed: 0</th>\n",
       "      <th>id</th>\n",
       "      <th>Gender</th>\n",
       "      <th>Customer Type</th>\n",
       "      <th>Age</th>\n",
       "      <th>Type of Travel</th>\n",
       "      <th>Class</th>\n",
       "      <th>Flight Distance</th>\n",
       "      <th>Inflight wifi service</th>\n",
       "      <th>Departure/Arrival time convenient</th>\n",
       "      <th>...</th>\n",
       "      <th>Inflight entertainment</th>\n",
       "      <th>On-board service</th>\n",
       "      <th>Leg room service</th>\n",
       "      <th>Baggage handling</th>\n",
       "      <th>Checkin service</th>\n",
       "      <th>Inflight service</th>\n",
       "      <th>Cleanliness</th>\n",
       "      <th>Departure Delay in Minutes</th>\n",
       "      <th>Arrival Delay in Minutes</th>\n",
       "      <th>satisfaction</th>\n",
       "    </tr>\n",
       "  </thead>\n",
       "  <tbody>\n",
       "    <tr>\n",
       "      <td>0</td>\n",
       "      <td>0</td>\n",
       "      <td>19556</td>\n",
       "      <td>Female</td>\n",
       "      <td>Loyal Customer</td>\n",
       "      <td>52</td>\n",
       "      <td>Business travel</td>\n",
       "      <td>Eco</td>\n",
       "      <td>160</td>\n",
       "      <td>5</td>\n",
       "      <td>4</td>\n",
       "      <td>...</td>\n",
       "      <td>5</td>\n",
       "      <td>5</td>\n",
       "      <td>5</td>\n",
       "      <td>5</td>\n",
       "      <td>2</td>\n",
       "      <td>5</td>\n",
       "      <td>5</td>\n",
       "      <td>50</td>\n",
       "      <td>44.0</td>\n",
       "      <td>satisfied</td>\n",
       "    </tr>\n",
       "    <tr>\n",
       "      <td>50</td>\n",
       "      <td>50</td>\n",
       "      <td>110840</td>\n",
       "      <td>Female</td>\n",
       "      <td>Loyal Customer</td>\n",
       "      <td>58</td>\n",
       "      <td>Personal Travel</td>\n",
       "      <td>Eco Plus</td>\n",
       "      <td>990</td>\n",
       "      <td>3</td>\n",
       "      <td>5</td>\n",
       "      <td>...</td>\n",
       "      <td>1</td>\n",
       "      <td>1</td>\n",
       "      <td>2</td>\n",
       "      <td>1</td>\n",
       "      <td>5</td>\n",
       "      <td>1</td>\n",
       "      <td>3</td>\n",
       "      <td>0</td>\n",
       "      <td>0.0</td>\n",
       "      <td>neutral or dissatisfied</td>\n",
       "    </tr>\n",
       "    <tr>\n",
       "      <td>100</td>\n",
       "      <td>100</td>\n",
       "      <td>68873</td>\n",
       "      <td>Female</td>\n",
       "      <td>disloyal Customer</td>\n",
       "      <td>36</td>\n",
       "      <td>Business travel</td>\n",
       "      <td>Eco</td>\n",
       "      <td>1061</td>\n",
       "      <td>2</td>\n",
       "      <td>2</td>\n",
       "      <td>...</td>\n",
       "      <td>4</td>\n",
       "      <td>1</td>\n",
       "      <td>4</td>\n",
       "      <td>2</td>\n",
       "      <td>4</td>\n",
       "      <td>2</td>\n",
       "      <td>4</td>\n",
       "      <td>13</td>\n",
       "      <td>0.0</td>\n",
       "      <td>neutral or dissatisfied</td>\n",
       "    </tr>\n",
       "    <tr>\n",
       "      <td>150</td>\n",
       "      <td>150</td>\n",
       "      <td>109359</td>\n",
       "      <td>Female</td>\n",
       "      <td>Loyal Customer</td>\n",
       "      <td>56</td>\n",
       "      <td>Business travel</td>\n",
       "      <td>Business</td>\n",
       "      <td>1189</td>\n",
       "      <td>5</td>\n",
       "      <td>5</td>\n",
       "      <td>...</td>\n",
       "      <td>2</td>\n",
       "      <td>2</td>\n",
       "      <td>2</td>\n",
       "      <td>2</td>\n",
       "      <td>4</td>\n",
       "      <td>2</td>\n",
       "      <td>3</td>\n",
       "      <td>9</td>\n",
       "      <td>0.0</td>\n",
       "      <td>satisfied</td>\n",
       "    </tr>\n",
       "    <tr>\n",
       "      <td>200</td>\n",
       "      <td>200</td>\n",
       "      <td>73465</td>\n",
       "      <td>Female</td>\n",
       "      <td>Loyal Customer</td>\n",
       "      <td>39</td>\n",
       "      <td>Personal Travel</td>\n",
       "      <td>Eco</td>\n",
       "      <td>1005</td>\n",
       "      <td>1</td>\n",
       "      <td>4</td>\n",
       "      <td>...</td>\n",
       "      <td>5</td>\n",
       "      <td>2</td>\n",
       "      <td>4</td>\n",
       "      <td>5</td>\n",
       "      <td>5</td>\n",
       "      <td>4</td>\n",
       "      <td>5</td>\n",
       "      <td>168</td>\n",
       "      <td>163.0</td>\n",
       "      <td>neutral or dissatisfied</td>\n",
       "    </tr>\n",
       "    <tr>\n",
       "      <td>...</td>\n",
       "      <td>...</td>\n",
       "      <td>...</td>\n",
       "      <td>...</td>\n",
       "      <td>...</td>\n",
       "      <td>...</td>\n",
       "      <td>...</td>\n",
       "      <td>...</td>\n",
       "      <td>...</td>\n",
       "      <td>...</td>\n",
       "      <td>...</td>\n",
       "      <td>...</td>\n",
       "      <td>...</td>\n",
       "      <td>...</td>\n",
       "      <td>...</td>\n",
       "      <td>...</td>\n",
       "      <td>...</td>\n",
       "      <td>...</td>\n",
       "      <td>...</td>\n",
       "      <td>...</td>\n",
       "      <td>...</td>\n",
       "      <td>...</td>\n",
       "    </tr>\n",
       "    <tr>\n",
       "      <td>25750</td>\n",
       "      <td>25750</td>\n",
       "      <td>28187</td>\n",
       "      <td>Female</td>\n",
       "      <td>Loyal Customer</td>\n",
       "      <td>27</td>\n",
       "      <td>Personal Travel</td>\n",
       "      <td>Eco</td>\n",
       "      <td>834</td>\n",
       "      <td>1</td>\n",
       "      <td>4</td>\n",
       "      <td>...</td>\n",
       "      <td>2</td>\n",
       "      <td>4</td>\n",
       "      <td>4</td>\n",
       "      <td>5</td>\n",
       "      <td>5</td>\n",
       "      <td>4</td>\n",
       "      <td>2</td>\n",
       "      <td>0</td>\n",
       "      <td>0.0</td>\n",
       "      <td>neutral or dissatisfied</td>\n",
       "    </tr>\n",
       "    <tr>\n",
       "      <td>25800</td>\n",
       "      <td>25800</td>\n",
       "      <td>79937</td>\n",
       "      <td>Female</td>\n",
       "      <td>Loyal Customer</td>\n",
       "      <td>40</td>\n",
       "      <td>Business travel</td>\n",
       "      <td>Business</td>\n",
       "      <td>1989</td>\n",
       "      <td>2</td>\n",
       "      <td>2</td>\n",
       "      <td>...</td>\n",
       "      <td>5</td>\n",
       "      <td>5</td>\n",
       "      <td>5</td>\n",
       "      <td>5</td>\n",
       "      <td>4</td>\n",
       "      <td>5</td>\n",
       "      <td>5</td>\n",
       "      <td>0</td>\n",
       "      <td>0.0</td>\n",
       "      <td>satisfied</td>\n",
       "    </tr>\n",
       "    <tr>\n",
       "      <td>25850</td>\n",
       "      <td>25850</td>\n",
       "      <td>65753</td>\n",
       "      <td>Female</td>\n",
       "      <td>Loyal Customer</td>\n",
       "      <td>59</td>\n",
       "      <td>Personal Travel</td>\n",
       "      <td>Eco</td>\n",
       "      <td>936</td>\n",
       "      <td>2</td>\n",
       "      <td>3</td>\n",
       "      <td>...</td>\n",
       "      <td>2</td>\n",
       "      <td>2</td>\n",
       "      <td>2</td>\n",
       "      <td>2</td>\n",
       "      <td>1</td>\n",
       "      <td>2</td>\n",
       "      <td>4</td>\n",
       "      <td>0</td>\n",
       "      <td>0.0</td>\n",
       "      <td>neutral or dissatisfied</td>\n",
       "    </tr>\n",
       "    <tr>\n",
       "      <td>25900</td>\n",
       "      <td>25900</td>\n",
       "      <td>92469</td>\n",
       "      <td>Male</td>\n",
       "      <td>disloyal Customer</td>\n",
       "      <td>31</td>\n",
       "      <td>Business travel</td>\n",
       "      <td>Eco</td>\n",
       "      <td>1947</td>\n",
       "      <td>3</td>\n",
       "      <td>3</td>\n",
       "      <td>...</td>\n",
       "      <td>1</td>\n",
       "      <td>2</td>\n",
       "      <td>5</td>\n",
       "      <td>4</td>\n",
       "      <td>4</td>\n",
       "      <td>3</td>\n",
       "      <td>1</td>\n",
       "      <td>18</td>\n",
       "      <td>14.0</td>\n",
       "      <td>neutral or dissatisfied</td>\n",
       "    </tr>\n",
       "    <tr>\n",
       "      <td>25950</td>\n",
       "      <td>25950</td>\n",
       "      <td>111771</td>\n",
       "      <td>Female</td>\n",
       "      <td>Loyal Customer</td>\n",
       "      <td>52</td>\n",
       "      <td>Business travel</td>\n",
       "      <td>Business</td>\n",
       "      <td>1620</td>\n",
       "      <td>4</td>\n",
       "      <td>4</td>\n",
       "      <td>...</td>\n",
       "      <td>4</td>\n",
       "      <td>4</td>\n",
       "      <td>4</td>\n",
       "      <td>4</td>\n",
       "      <td>4</td>\n",
       "      <td>4</td>\n",
       "      <td>5</td>\n",
       "      <td>30</td>\n",
       "      <td>26.0</td>\n",
       "      <td>satisfied</td>\n",
       "    </tr>\n",
       "  </tbody>\n",
       "</table>\n",
       "<p>520 rows × 25 columns</p>\n",
       "</div>"
      ],
      "text/plain": [
       "       Unnamed: 0      id  Gender      Customer Type  Age   Type of Travel  \\\n",
       "0               0   19556  Female     Loyal Customer   52  Business travel   \n",
       "50             50  110840  Female     Loyal Customer   58  Personal Travel   \n",
       "100           100   68873  Female  disloyal Customer   36  Business travel   \n",
       "150           150  109359  Female     Loyal Customer   56  Business travel   \n",
       "200           200   73465  Female     Loyal Customer   39  Personal Travel   \n",
       "...           ...     ...     ...                ...  ...              ...   \n",
       "25750       25750   28187  Female     Loyal Customer   27  Personal Travel   \n",
       "25800       25800   79937  Female     Loyal Customer   40  Business travel   \n",
       "25850       25850   65753  Female     Loyal Customer   59  Personal Travel   \n",
       "25900       25900   92469    Male  disloyal Customer   31  Business travel   \n",
       "25950       25950  111771  Female     Loyal Customer   52  Business travel   \n",
       "\n",
       "          Class  Flight Distance  Inflight wifi service  \\\n",
       "0           Eco              160                      5   \n",
       "50     Eco Plus              990                      3   \n",
       "100         Eco             1061                      2   \n",
       "150    Business             1189                      5   \n",
       "200         Eco             1005                      1   \n",
       "...         ...              ...                    ...   \n",
       "25750       Eco              834                      1   \n",
       "25800  Business             1989                      2   \n",
       "25850       Eco              936                      2   \n",
       "25900       Eco             1947                      3   \n",
       "25950  Business             1620                      4   \n",
       "\n",
       "       Departure/Arrival time convenient  ...  Inflight entertainment  \\\n",
       "0                                      4  ...                       5   \n",
       "50                                     5  ...                       1   \n",
       "100                                    2  ...                       4   \n",
       "150                                    5  ...                       2   \n",
       "200                                    4  ...                       5   \n",
       "...                                  ...  ...                     ...   \n",
       "25750                                  4  ...                       2   \n",
       "25800                                  2  ...                       5   \n",
       "25850                                  3  ...                       2   \n",
       "25900                                  3  ...                       1   \n",
       "25950                                  4  ...                       4   \n",
       "\n",
       "       On-board service  Leg room service  Baggage handling  Checkin service  \\\n",
       "0                     5                 5                 5                2   \n",
       "50                    1                 2                 1                5   \n",
       "100                   1                 4                 2                4   \n",
       "150                   2                 2                 2                4   \n",
       "200                   2                 4                 5                5   \n",
       "...                 ...               ...               ...              ...   \n",
       "25750                 4                 4                 5                5   \n",
       "25800                 5                 5                 5                4   \n",
       "25850                 2                 2                 2                1   \n",
       "25900                 2                 5                 4                4   \n",
       "25950                 4                 4                 4                4   \n",
       "\n",
       "       Inflight service  Cleanliness  Departure Delay in Minutes  \\\n",
       "0                     5            5                          50   \n",
       "50                    1            3                           0   \n",
       "100                   2            4                          13   \n",
       "150                   2            3                           9   \n",
       "200                   4            5                         168   \n",
       "...                 ...          ...                         ...   \n",
       "25750                 4            2                           0   \n",
       "25800                 5            5                           0   \n",
       "25850                 2            4                           0   \n",
       "25900                 3            1                          18   \n",
       "25950                 4            5                          30   \n",
       "\n",
       "       Arrival Delay in Minutes             satisfaction  \n",
       "0                          44.0                satisfied  \n",
       "50                          0.0  neutral or dissatisfied  \n",
       "100                         0.0  neutral or dissatisfied  \n",
       "150                         0.0                satisfied  \n",
       "200                       163.0  neutral or dissatisfied  \n",
       "...                         ...                      ...  \n",
       "25750                       0.0  neutral or dissatisfied  \n",
       "25800                       0.0                satisfied  \n",
       "25850                       0.0  neutral or dissatisfied  \n",
       "25900                      14.0  neutral or dissatisfied  \n",
       "25950                      26.0                satisfied  \n",
       "\n",
       "[520 rows x 25 columns]"
      ]
     },
     "execution_count": 3,
     "metadata": {},
     "output_type": "execute_result"
    }
   ],
   "source": [
    "train = pd.read_csv('/Users/aptem/Downloads/archive/test.csv')\n",
    "train.info()\n",
    "train = train[::50]\n",
    "train"
   ]
  },
  {
   "cell_type": "code",
   "execution_count": 4,
   "metadata": {
    "colab": {
     "base_uri": "https://localhost:8080/",
     "height": 419
    },
    "id": "7nfhOg4mJLc-",
    "outputId": "b70ed4e3-84fa-4475-9a53-530f9f2ca658"
   },
   "outputs": [],
   "source": [
    "def transform_gender(x):   \n",
    "    if x == 'Female':\n",
    "        return 1\n",
    "    elif x == 'Male':\n",
    "        return 0\n",
    "    else:\n",
    "        return -1\n",
    "    \n",
    "def transform_customer_type(x):\n",
    "    if x == 'Loyal Customer':\n",
    "        return 1\n",
    "    elif x == 'disloyal Customer':\n",
    "        return 0\n",
    "    else:\n",
    "        return -1\n",
    "    \n",
    "def transform_travel_type(x):\n",
    "    if x == 'Business travel':\n",
    "        return 1\n",
    "    elif x == 'Personal Travel':\n",
    "        return 0\n",
    "    else:\n",
    "        return -1\n",
    "    \n",
    "def transform_class(x):\n",
    "    if x == 'Business':\n",
    "        return 2\n",
    "    elif x == 'Eco Plus':\n",
    "        return 1\n",
    "    elif x == 'Eco':\n",
    "        return 0    \n",
    "    else:\n",
    "        return -1\n",
    "    \n",
    "def transform_satisfaction(x):\n",
    "    if x == 'satisfied':\n",
    "        return 1\n",
    "    elif x == 'neutral or dissatisfied':\n",
    "        return 0\n",
    "    else:\n",
    "        return -1\n",
    "    \n",
    "def process_data(df):\n",
    "    df = df.drop(['Unnamed: 0', 'id'], axis = 1)\n",
    "    df['Gender'] = df['Gender'].apply(transform_gender)\n",
    "    df['Customer Type'] = df['Customer Type'].apply(transform_customer_type)\n",
    "    df['Type of Travel'] = df['Type of Travel'].apply(transform_travel_type)\n",
    "    df['Class'] = df['Class'].apply(transform_class)\n",
    "    df['satisfaction'] = df['satisfaction'].apply(transform_satisfaction)\n",
    "    df['Arrival Delay in Minutes'].fillna(df['Arrival Delay in Minutes'].median(), inplace = True)\n",
    "    \n",
    "    return df\n",
    "\n",
    "train = process_data(train)"
   ]
  },
  {
   "cell_type": "code",
   "execution_count": 5,
   "metadata": {},
   "outputs": [],
   "source": [
    "features = train.columns.tolist()\n",
    "target = features.pop(4)\n",
    "X = train[features]\n",
    "y = train[target]"
   ]
  },
  {
   "cell_type": "code",
   "execution_count": 6,
   "metadata": {
    "id": "5jgl2htXKVvm"
   },
   "outputs": [],
   "source": [
    "x_train, x_test, y_train, y_test=train_test_split(X, y, test_size = 0.15)"
   ]
  },
  {
   "cell_type": "code",
   "execution_count": 7,
   "metadata": {
    "colab": {
     "base_uri": "https://localhost:8080/",
     "height": 282
    },
    "id": "NKzsxzq_Lk3q",
    "outputId": "4413f8c7-22cf-45af-dc20-f1d0bc00cd8f"
   },
   "outputs": [
    {
     "data": {
      "text/plain": [
       "<function matplotlib.pyplot.show(*args, **kw)>"
      ]
     },
     "execution_count": 7,
     "metadata": {},
     "output_type": "execute_result"
    },
    {
     "data": {
      "image/png": "[encoded data removed]",
      "text/plain": [
       "<Figure size 432x288 with 1 Axes>"
      ]
     },
     "metadata": {
      "needs_background": "light"
     },
     "output_type": "display_data"
    }
   ],
   "source": [
    "knn = KNeighborsClassifier(n_neighbors=1, weights='uniform', metric='euclidean')\n",
    "knn.fit(x_train, y_train)\n",
    "y_pred = knn.predict(x_test)\n",
    "for i in y.unique():\n",
    "    plt.scatter(x_test[\"Age\"][y_pred == i], x_test[\"Flight Distance\"][y_pred == i])\n",
    "plt.show"
   ]
  },
  {
   "cell_type": "code",
   "execution_count": 9,
   "metadata": {
    "colab": {
     "base_uri": "https://localhost:8080/"
    },
    "id": "cf__zzvGL260",
    "outputId": "3c9cf9c4-bdcd-42cc-8527-7eb79453b436"
   },
   "outputs": [
    {
     "data": {
      "text/plain": [
       "0.5512820512820513"
      ]
     },
     "execution_count": 9,
     "metadata": {},
     "output_type": "execute_result"
    }
   ],
   "source": [
    "def calc_acc(y_pred, y_test):\n",
    "    acc = 0\n",
    "    for i,j in zip(y_pred, y_test):\n",
    "        if i == j:\n",
    "            acc += 1 \n",
    "    acc /=len(y_test)\n",
    "    return acc\n",
    "calc_acc(y_pred, y_test)"
   ]
  },
  {
   "cell_type": "code",
   "execution_count": 10,
   "metadata": {
    "colab": {
     "base_uri": "https://localhost:8080/"
    },
    "id": "F99-KOf2MEku",
    "outputId": "67012ed7-fe10-4fe3-d0fc-708f43294876"
   },
   "outputs": [
    {
     "data": {
      "text/plain": [
       "0.5238095238095238"
      ]
     },
     "execution_count": 10,
     "metadata": {},
     "output_type": "execute_result"
    }
   ],
   "source": [
    "def calc_prec(y_pred, y_test):\n",
    "    prec = 0\n",
    "    rec = 0\n",
    "    for i,j in zip(y_pred, y_test):\n",
    "        if i == j and i == 2:\n",
    "            prec+=1 \n",
    "        if i != j and i == 2:\n",
    "            rec += 1 \n",
    "    prec /= (prec + rec)\n",
    "    return prec\n",
    "calc_prec(y_pred, y_test)"
   ]
  },
  {
   "cell_type": "code",
   "execution_count": 11,
   "metadata": {
    "colab": {
     "base_uri": "https://localhost:8080/"
    },
    "id": "P4w_B22zMIpV",
    "outputId": "f463cfb9-f5c9-4bdc-a2ab-cf8422460a50"
   },
   "outputs": [
    {
     "data": {
      "text/plain": [
       "0.5238095238095238"
      ]
     },
     "execution_count": 11,
     "metadata": {},
     "output_type": "execute_result"
    }
   ],
   "source": [
    "def calc_recall(y_pred, y_test):\n",
    "    prec = 0\n",
    "    recall = 0\n",
    "    for i,j in zip(y_pred, y_test):\n",
    "        if i == j and i == 2:\n",
    "            recall += 1\n",
    "        if i != j and i == 2:\n",
    "            prec += 1 \n",
    "    recall /= (recall + prec)\n",
    "    return recall\n",
    "calc_recall(y_pred, y_test)"
   ]
  },
  {
   "cell_type": "code",
   "execution_count": 12,
   "metadata": {
    "colab": {
     "base_uri": "https://localhost:8080/",
     "height": 83,
     "referenced_widgets": [
      "9e488e175b3a46c4966e9fd621a46165",
      "11f95836892841728f04acdc7ea8aac8",
      "aa7d4e245fc3439a87b8ee33b8079b8d",
      "35d83b8bd9084561b0cbfa36463e866d",
      "c1808b9e0d2d4263b504a2d4bf22f6d8",
      "34415182e51340ca88b313d14078ee6e",
      "4410f3bf2dc84dad98f915ba77d9e6cc"
     ]
    },
    "id": "9oH4ga4kMMl3",
    "outputId": "5bfa4ab7-bca3-401f-c762-7b0067f74614"
   },
   "outputs": [
    {
     "data": {
      "application/vnd.jupyter.widget-view+json": {
       "model_id": "d3fa1c1533564a9091e8b3698d964d1b",
       "version_major": 2,
       "version_minor": 0
      },
      "text/plain": [
       "interactive(children=(IntSlider(value=1, description='n_neighbors', max=15, min=1), Output()), _dom_classes=('…"
      ]
     },
     "metadata": {},
     "output_type": "display_data"
    },
    {
     "data": {
      "text/plain": [
       "<function __main__.neighbours(n_neighbors=3)>"
      ]
     },
     "execution_count": 12,
     "metadata": {},
     "output_type": "execute_result"
    }
   ],
   "source": [
    "def neighbours (n_neighbors=3):\n",
    "    knn = KNeighborsClassifier(n_neighbors=n_neighbors)\n",
    "    knn.fit(x_train, y_train)\n",
    "    y_pred=knn.predict(x_test)\n",
    "    return calc_acc(y_pred, y_test)\n",
    "interact(neighbours, n_neighbors=IntSlider(min=1, max=15, step=1))"
   ]
  },
  {
   "cell_type": "code",
   "execution_count": 11,
   "metadata": {
    "colab": {
     "base_uri": "https://localhost:8080/",
     "height": 282
    },
    "id": "aymcldJJOChI",
    "outputId": "84ae18d3-ea79-4248-a0de-14ecf00e96ad"
   },
   "outputs": [
    {
     "data": {
      "text/plain": [
       "[<matplotlib.lines.Line2D at 0x7fce1cbb70d0>]"
      ]
     },
     "execution_count": 11,
     "metadata": {},
     "output_type": "execute_result"
    },
    {
     "data": {
      "image/png": "[encoded data removed]",
      "text/plain": [
       "<Figure size 432x288 with 1 Axes>"
      ]
     },
     "metadata": {
      "needs_background": "light"
     },
     "output_type": "display_data"
    }
   ],
   "source": [
    "pr2=[]\n",
    "for k in range(1, 15):\n",
    "    knn = KNeighborsClassifier(n_neighbors=k, weights='uniform', metric='euclidean')\n",
    "    knn.fit(x_train, y_train)\n",
    "    y_hat2=knn.predict(x_test)\n",
    "    pr2.append(calc_acc(y_hat2, y_test))\n",
    "plt.plot(range(1, 15), pr2)"
   ]
  },
  {
   "cell_type": "code",
   "execution_count": 14,
   "metadata": {
    "colab": {
     "base_uri": "https://localhost:8080/"
    },
    "id": "uMmQJAilOMSt",
    "outputId": "152709d4-bc9a-4d9f-be19-8a9192c73b41"
   },
   "outputs": [
    {
     "name": "stdout",
     "output_type": "stream",
     "text": [
      "[KNeighborsClassifier(algorithm='auto', leaf_size=30, metric='euclidean',\n",
      "                     metric_params=None, n_jobs=None, n_neighbors=1, p=2,\n",
      "                     weights='uniform'), 0.5769230769230769]\n"
     ]
    },
    {
     "data": {
      "text/plain": [
       "[[KNeighborsClassifier(algorithm='auto', leaf_size=30, metric='euclidean',\n",
       "                       metric_params=None, n_jobs=None, n_neighbors=2, p=2,\n",
       "                       weights='uniform'), 0.46153846153846156],\n",
       " [KNeighborsClassifier(algorithm='auto', leaf_size=30, metric='euclidean',\n",
       "                       metric_params=None, n_jobs=None, n_neighbors=2, p=2,\n",
       "                       weights='uniform'), 0.46153846153846156],\n",
       " [KNeighborsClassifier(algorithm='auto', leaf_size=30, metric='euclidean',\n",
       "                       metric_params=None, n_jobs=None, n_neighbors=1, p=2,\n",
       "                       weights='uniform'), 0.48717948717948717],\n",
       " [KNeighborsClassifier(algorithm='auto', leaf_size=30, metric='euclidean',\n",
       "                       metric_params=None, n_jobs=None, n_neighbors=6, p=2,\n",
       "                       weights='uniform'), 0.46153846153846156],\n",
       " [KNeighborsClassifier(algorithm='auto', leaf_size=30, metric='euclidean',\n",
       "                       metric_params=None, n_jobs=None, n_neighbors=1, p=2,\n",
       "                       weights='uniform'), 0.5769230769230769]]"
      ]
     },
     "execution_count": 14,
     "metadata": {},
     "output_type": "execute_result"
    }
   ],
   "source": [
    "cross = []\n",
    "g_acc = 0\n",
    "for i in range(0,5):\n",
    "    X_train, X_test, Y_train, Y_test = train_test_split(train, y)\n",
    "    acc = 0\n",
    "    for k in range(1, 10):\n",
    "        knn = KNeighborsClassifier(n_neighbors=k, weights='uniform', metric='euclidean').fit(X_train, Y_train)\n",
    "        y_pred = knn.predict(X_test)\n",
    "        if calc_acc(y_pred, y_test) > acc:\n",
    "            acc = calc_acc(y_pred, y_test)\n",
    "            mod = knn\n",
    "            if acc > g_acc:\n",
    "                g_acc = acc\n",
    "    cross.append([mod,acc])\n",
    "for i in range(0,5):\n",
    "    if cross[i][1] == g_acc:\n",
    "        print(cross[i])\n",
    "        \n",
    "cross"
   ]
  },
  {
   "cell_type": "code",
   "execution_count": null,
   "metadata": {},
   "outputs": [],
   "source": []
  }
 ],
 "metadata": {
  "colab": {
   "collapsed_sections": [],
   "name": "Laba 4.ipynb",
   "provenance": []
  },
  "kernelspec": {
   "display_name": "Python 3",
   "language": "python",
   "name": "python3"
  },
  "language_info": {
   "codemirror_mode": {
    "name": "ipython",
    "version": 3
   },
   "file_extension": ".py",
   "mimetype": "text/x-python",
   "name": "python",
   "nbconvert_exporter": "python",
   "pygments_lexer": "ipython3",
   "version": "3.7.4"
  },
  "widgets": {
   "application/vnd.jupyter.widget-state+json": {
    "11f95836892841728f04acdc7ea8aac8": {
     "model_module": "@jupyter-widgets/base",
     "model_name": "LayoutModel",
     "state": {
      "_model_module": "@jupyter-widgets/base",
      "_model_module_version": "1.2.0",
      "_model_name": "LayoutModel",
      "_view_count": null,
      "_view_module": "@jupyter-widgets/base",
      "_view_module_version": "1.2.0",
      "_view_name": "LayoutView",
      "align_content": null,
      "align_items": null,
      "align_self": null,
      "border": null,
      "bottom": null,
      "display": null,
      "flex": null,
      "flex_flow": null,
      "grid_area": null,
      "grid_auto_columns": null,
      "grid_auto_flow": null,
      "grid_auto_rows": null,
      "grid_column": null,
      "grid_gap": null,
      "grid_row": null,
      "grid_template_areas": null,
      "grid_template_columns": null,
      "grid_template_rows": null,
      "height": null,
      "justify_content": null,
      "justify_items": null,
      "left": null,
      "margin": null,
      "max_height": null,
      "max_width": null,
      "min_height": null,
      "min_width": null,
      "object_fit": null,
      "object_position": null,
      "order": null,
      "overflow": null,
      "overflow_x": null,
      "overflow_y": null,
      "padding": null,
      "right": null,
      "top": null,
      "visibility": null,
      "width": null
     }
    },
    "34415182e51340ca88b313d14078ee6e": {
     "model_module": "@jupyter-widgets/base",
     "model_name": "LayoutModel",
     "state": {
      "_model_module": "@jupyter-widgets/base",
      "_model_module_version": "1.2.0",
      "_model_name": "LayoutModel",
      "_view_count": null,
      "_view_module": "@jupyter-widgets/base",
      "_view_module_version": "1.2.0",
      "_view_name": "LayoutView",
      "align_content": null,
      "align_items": null,
      "align_self": null,
      "border": null,
      "bottom": null,
      "display": null,
      "flex": null,
      "flex_flow": null,
      "grid_area": null,
      "grid_auto_columns": null,
      "grid_auto_flow": null,
      "grid_auto_rows": null,
      "grid_column": null,
      "grid_gap": null,
      "grid_row": null,
      "grid_template_areas": null,
      "grid_template_columns": null,
      "grid_template_rows": null,
      "height": null,
      "justify_content": null,
      "justify_items": null,
      "left": null,
      "margin": null,
      "max_height": null,
      "max_width": null,
      "min_height": null,
      "min_width": null,
      "object_fit": null,
      "object_position": null,
      "order": null,
      "overflow": null,
      "overflow_x": null,
      "overflow_y": null,
      "padding": null,
      "right": null,
      "top": null,
      "visibility": null,
      "width": null
     }
    },
    "35d83b8bd9084561b0cbfa36463e866d": {
     "model_module": "@jupyter-widgets/output",
     "model_name": "OutputModel",
     "state": {
      "_dom_classes": [],
      "_model_module": "@jupyter-widgets/output",
      "_model_module_version": "1.0.0",
      "_model_name": "OutputModel",
      "_view_count": null,
      "_view_module": "@jupyter-widgets/output",
      "_view_module_version": "1.0.0",
      "_view_name": "OutputView",
      "layout": "IPY_MODEL_4410f3bf2dc84dad98f915ba77d9e6cc",
      "msg_id": "",
      "outputs": [
       {
        "metadata": {
         "tags": []
        },
        "output_type": "display_data",
        "text/plain": "0.5486666666666666"
       }
      ]
     }
    },
    "4410f3bf2dc84dad98f915ba77d9e6cc": {
     "model_module": "@jupyter-widgets/base",
     "model_name": "LayoutModel",
     "state": {
      "_model_module": "@jupyter-widgets/base",
      "_model_module_version": "1.2.0",
      "_model_name": "LayoutModel",
      "_view_count": null,
      "_view_module": "@jupyter-widgets/base",
      "_view_module_version": "1.2.0",
      "_view_name": "LayoutView",
      "align_content": null,
      "align_items": null,
      "align_self": null,
      "border": null,
      "bottom": null,
      "display": null,
      "flex": null,
      "flex_flow": null,
      "grid_area": null,
      "grid_auto_columns": null,
      "grid_auto_flow": null,
      "grid_auto_rows": null,
      "grid_column": null,
      "grid_gap": null,
      "grid_row": null,
      "grid_template_areas": null,
      "grid_template_columns": null,
      "grid_template_rows": null,
      "height": null,
      "justify_content": null,
      "justify_items": null,
      "left": null,
      "margin": null,
      "max_height": null,
      "max_width": null,
      "min_height": null,
      "min_width": null,
      "object_fit": null,
      "object_position": null,
      "order": null,
      "overflow": null,
      "overflow_x": null,
      "overflow_y": null,
      "padding": null,
      "right": null,
      "top": null,
      "visibility": null,
      "width": null
     }
    },
    "9e488e175b3a46c4966e9fd621a46165": {
     "model_module": "@jupyter-widgets/controls",
     "model_name": "VBoxModel",
     "state": {
      "_dom_classes": [
       "widget-interact"
      ],
      "_model_module": "@jupyter-widgets/controls",
      "_model_module_version": "1.5.0",
      "_model_name": "VBoxModel",
      "_view_count": null,
      "_view_module": "@jupyter-widgets/controls",
      "_view_module_version": "1.5.0",
      "_view_name": "VBoxView",
      "box_style": "",
      "children": [
       "IPY_MODEL_aa7d4e245fc3439a87b8ee33b8079b8d",
       "IPY_MODEL_35d83b8bd9084561b0cbfa36463e866d"
      ],
      "layout": "IPY_MODEL_11f95836892841728f04acdc7ea8aac8"
     }
    },
    "aa7d4e245fc3439a87b8ee33b8079b8d": {
     "model_module": "@jupyter-widgets/controls",
     "model_name": "IntSliderModel",
     "state": {
      "_dom_classes": [],
      "_model_module": "@jupyter-widgets/controls",
      "_model_module_version": "1.5.0",
      "_model_name": "IntSliderModel",
      "_view_count": null,
      "_view_module": "@jupyter-widgets/controls",
      "_view_module_version": "1.5.0",
      "_view_name": "IntSliderView",
      "continuous_update": true,
      "description": "n_neighbors",
      "description_tooltip": null,
      "disabled": false,
      "layout": "IPY_MODEL_34415182e51340ca88b313d14078ee6e",
      "max": 15,
      "min": 1,
      "orientation": "horizontal",
      "readout": true,
      "readout_format": "d",
      "step": 1,
      "style": "IPY_MODEL_c1808b9e0d2d4263b504a2d4bf22f6d8",
      "value": 11
     }
    },
    "c1808b9e0d2d4263b504a2d4bf22f6d8": {
     "model_module": "@jupyter-widgets/controls",
     "model_name": "SliderStyleModel",
     "state": {
      "_model_module": "@jupyter-widgets/controls",
      "_model_module_version": "1.5.0",
      "_model_name": "SliderStyleModel",
      "_view_count": null,
      "_view_module": "@jupyter-widgets/base",
      "_view_module_version": "1.2.0",
      "_view_name": "StyleView",
      "description_width": "",
      "handle_color": null
     }
    }
   }
  }
 },
 "nbformat": 4,
 "nbformat_minor": 1
}
