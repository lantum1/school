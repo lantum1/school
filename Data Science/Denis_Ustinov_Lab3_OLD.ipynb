{
  "nbformat": 4,
  "nbformat_minor": 0,
  "metadata": {
    "kernelspec": {
      "display_name": "Python 3",
      "language": "python",
      "name": "python3"
    },
    "language_info": {
      "codemirror_mode": {
        "name": "ipython",
        "version": 3
      },
      "file_extension": ".py",
      "mimetype": "text/x-python",
      "name": "python",
      "nbconvert_exporter": "python",
      "pygments_lexer": "ipython3",
      "version": "3.7.4"
    },
    "colab": {
      "name": "Denis_Ustinov_Lab3.ipynb",
      "provenance": []
    }
  },
  "cells": [
    {
      "cell_type": "code",
      "metadata": {
        "id": "mGXt8PMkdYs1"
      },
      "source": [
        "import numpy as np\n",
        "import pandas as pd\n",
        "import seaborn as sns\n",
        "import matplotlib.pyplot as plt\n",
        "from sklearn.cluster import KMeans\n",
        "from sklearn.cluster import DBSCAN\n",
        "from scipy.spatial.distance import pdist\n",
        "from scipy.spatial.distance import cdist\n",
        "from sklearn.metrics import adjusted_rand_score\n",
        "from sklearn.preprocessing import StandardScaler\n",
        "from sklearn.model_selection import train_test_split\n",
        "from scipy.cluster.hierarchy import fcluster, linkage, cophenet, dendrogram\n",
        "from ipywidgets import interact, IntSlider, fixed, FloatSlider\n",
        "from sklearn.datasets import make_blobs"
      ],
      "execution_count": null,
      "outputs": []
    },
    {
      "cell_type": "code",
      "metadata": {
        "id": "Buxp3OVSdYs1"
      },
      "source": [
        "train = pd.read_csv(\"Alpha_bank.csv\")"
      ],
      "execution_count": null,
      "outputs": []
    },
    {
      "cell_type": "code",
      "metadata": {
        "id": "IOk1B7vEdYs1"
      },
      "source": [
        "def transform_job(x):\n",
        "    if x == 'housemaid':\n",
        "        return 0\n",
        "    elif x == 'services':\n",
        "        return 1\n",
        "    elif x=='admin.':\n",
        "      return 2\n",
        "    elif x=='technician':\n",
        "      return 3\n",
        "    elif x=='blue-collar':\n",
        "      return 4\n",
        "    elif x=='unemployed':\n",
        "      return 5\n",
        "    elif x=='retired':\n",
        "      return 6\n",
        "    elif x=='enterpreneur':\n",
        "      return 7\n",
        "    elif x=='management':\n",
        "      return 8\n",
        "    elif x=='self_employed':\n",
        "      return 9\n",
        "    elif x=='student':\n",
        "      return 10\n",
        "    else:\n",
        "        return -1\n",
        "def transform_marital_status(x):\n",
        "    if x == 'married':\n",
        "        return 0\n",
        "    elif x == 'divorced':\n",
        "        return 1\n",
        "    elif x=='single':\n",
        "      return 2\n",
        "    else:\n",
        "        return -1\n",
        "def transform_education(x):\n",
        "    if x == 'Primary_Education':\n",
        "        return 0\n",
        "    elif x == 'Secondary_Education':\n",
        "        return 1\n",
        "    elif x=='Professional_Education':\n",
        "      return 2\n",
        "    elif x=='Tertiary_Education':\n",
        "      return 3\n",
        "    else:\n",
        "        return -1\n",
        "def transform_default_credit(x):\n",
        "    if x == 'no':\n",
        "        return 0\n",
        "    elif x == 'yes':\n",
        "        return 1  \n",
        "    else:\n",
        "        return -1\n",
        "def transform_housing_loan(x):\n",
        "    if x == 'no':\n",
        "        return 0\n",
        "    elif x == 'yes':\n",
        "        return 1\n",
        "    else:\n",
        "        return -1\n",
        "def transform_personal_loan(x):\n",
        "  if x=='no':\n",
        "    return 0\n",
        "  elif x=='yes':\n",
        "    return 1\n",
        "  else:\n",
        "    return -1\n",
        "def transform_subscribed(x):\n",
        "  if x=='no':\n",
        "    return 0\n",
        "  elif x=='yes':\n",
        "    return 1\n",
        "  else:\n",
        "    return -1\n",
        "def process_data(df):\n",
        "    df['Job'] = df['Job'].apply(transform_job)\n",
        "    df['Marital_Status'] = df['Marital_Status'].apply(transform_marital_status)\n",
        "    df['Education'] = df['Education'].apply(transform_education)\n",
        "    df['Default_Credit'] = df['Default_Credit'].apply(transform_default_credit)\n",
        "    df['Housing_Loan'] = df['Housing_Loan'].apply(transform_housing_loan)\n",
        "    df['Personal_Loan'] = df['Personal_Loan'].apply(transform_personal_loan)\n",
        "    df['Subscribed'] = df['Subscribed'].apply(transform_subscribed)\n",
        "    return df\n",
        "train = process_data(train)"
      ],
      "execution_count": null,
      "outputs": []
    },
    {
      "cell_type": "code",
      "metadata": {
        "colab": {
          "base_uri": "https://localhost:8080/"
        },
        "id": "sWwWEXHydYs1",
        "outputId": "2ef4f52e-62ed-4404-df1b-dadc7cc59ac3"
      },
      "source": [
        "features = train.columns.tolist()\n",
        "target = features.pop(3)\n",
        "print(target,features)"
      ],
      "execution_count": null,
      "outputs": [
        {
          "output_type": "stream",
          "text": [
            "Education ['Age', 'Job', 'Marital_Status', 'Default_Credit', 'Housing_Loan', 'Personal_Loan', 'Subscribed']\n"
          ],
          "name": "stdout"
        }
      ]
    },
    {
      "cell_type": "code",
      "metadata": {
        "id": "zLkZcPrhdYs2"
      },
      "source": [
        "clusters = range(1,11)\n",
        "mean = []"
      ],
      "execution_count": null,
      "outputs": []
    },
    {
      "cell_type": "code",
      "metadata": {
        "id": "KSxBnxuidYs2"
      },
      "source": [
        "for k in clusters:\n",
        "    model = KMeans(n_clusters=k)\n",
        "    model.fit(train)\n",
        "    mean.append(sum(np.min(cdist(train, model.cluster_centers_,\"euclidean\"),axis = 1))/train.shape[0])"
      ],
      "execution_count": null,
      "outputs": []
    },
    {
      "cell_type": "code",
      "metadata": {
        "colab": {
          "base_uri": "https://localhost:8080/",
          "height": 312
        },
        "id": "-zcVJIgXdYs2",
        "outputId": "196e1382-b4eb-4548-c6de-defa4ff5d007"
      },
      "source": [
        "plt.plot(clusters, mean)\n",
        "plt.xlabel(\"Number of clusters\")\n",
        "plt.ylabel(\"Average distance\")\n",
        "plt.title(\"Elbow method\")"
      ],
      "execution_count": null,
      "outputs": [
        {
          "output_type": "execute_result",
          "data": {
            "text/plain": [
              "Text(0.5, 1.0, 'Elbow method')"
            ]
          },
          "metadata": {
            "tags": []
          },
          "execution_count": 31
        },
        {
          "output_type": "display_data",
          "data": {
            "image/png": "[encoded data removed]",
            "text/plain": [
              "<Figure size 432x288 with 1 Axes>"
            ]
          },
          "metadata": {
            "tags": [],
            "needs_background": "light"
          }
        }
      ]
    },
    {
      "cell_type": "code",
      "metadata": {
        "id": "bOyCmeN6dYs2"
      },
      "source": [
        "kmeans = KMeans(n_clusters = 2).fit(train[features])"
      ],
      "execution_count": null,
      "outputs": []
    },
    {
      "cell_type": "code",
      "metadata": {
        "colab": {
          "base_uri": "https://localhost:8080/"
        },
        "id": "Yr0RwiAgdYs3",
        "outputId": "a3393e36-98f6-4f4c-c8b8-f3faa683ec59"
      },
      "source": [
        "adjusted_rand_score(train[target], kmeans.labels_)"
      ],
      "execution_count": null,
      "outputs": [
        {
          "output_type": "execute_result",
          "data": {
            "text/plain": [
              "0.024169010779343917"
            ]
          },
          "metadata": {
            "tags": []
          },
          "execution_count": 33
        }
      ]
    },
    {
      "cell_type": "code",
      "metadata": {
        "id": "WhLHL_25dYs3"
      },
      "source": [
        "stud = linkage(train[features], method = \"centroid\")\n",
        "labels = fcluster(stud, 2, criterion = \"maxclust\")"
      ],
      "execution_count": null,
      "outputs": []
    },
    {
      "cell_type": "code",
      "metadata": {
        "colab": {
          "base_uri": "https://localhost:8080/"
        },
        "id": "GQ5gIhcUdYs3",
        "outputId": "556de458-1f74-47c0-da95-070b9b1633b2"
      },
      "source": [
        "adjusted_rand_score(train[target], labels)"
      ],
      "execution_count": null,
      "outputs": [
        {
          "output_type": "execute_result",
          "data": {
            "text/plain": [
              "0.011347166532750133"
            ]
          },
          "metadata": {
            "tags": []
          },
          "execution_count": 35
        }
      ]
    },
    {
      "cell_type": "code",
      "metadata": {
        "id": "k34BRm19dYs3"
      },
      "source": [
        "# dend = dendrogram(stud)"
      ],
      "execution_count": null,
      "outputs": []
    },
    {
      "cell_type": "code",
      "metadata": {
        "id": "IO-VyUFrdYs3"
      },
      "source": [
        "dbscan = DBSCAN(eps = 11, min_samples = 6).fit(train[features])"
      ],
      "execution_count": null,
      "outputs": []
    },
    {
      "cell_type": "code",
      "metadata": {
        "colab": {
          "base_uri": "https://localhost:8080/"
        },
        "id": "lwsHSQY5dYs3",
        "outputId": "d56efe14-752d-4467-c620-29de38b1d0c9"
      },
      "source": [
        "adjusted_rand_score(train[target], dbscan.labels_)"
      ],
      "execution_count": null,
      "outputs": [
        {
          "output_type": "execute_result",
          "data": {
            "text/plain": [
              "0.0"
            ]
          },
          "metadata": {
            "tags": []
          },
          "execution_count": 38
        }
      ]
    },
    {
      "cell_type": "code",
      "metadata": {
        "colab": {
          "base_uri": "https://localhost:8080/",
          "height": 391
        },
        "id": "Fvsh9klPdYs3",
        "outputId": "505b1590-8547-438c-cb55-47524eac6169"
      },
      "source": [
        "plt.figure(figsize=(8, 6))\n",
        "plt.scatter(train.iloc[:,0],train.iloc[:,1], c=kmeans.labels_.astype(float))"
      ],
      "execution_count": null,
      "outputs": [
        {
          "output_type": "execute_result",
          "data": {
            "text/plain": [
              "<matplotlib.collections.PathCollection at 0x7f5ceda04ac8>"
            ]
          },
          "metadata": {
            "tags": []
          },
          "execution_count": 39
        },
        {
          "output_type": "display_data",
          "data": {
            "image/png": "[encoded data removed]",
            "text/plain": [
              "<Figure size 576x432 with 1 Axes>"
            ]
          },
          "metadata": {
            "tags": [],
            "needs_background": "light"
          }
        }
      ]
    }
  ]
}