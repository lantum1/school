{
  "nbformat": 4,
  "nbformat_minor": 0,
  "metadata": {
    "kernelspec": {
      "display_name": "Python 3",
      "language": "python",
      "name": "python3"
    },
    "language_info": {
      "codemirror_mode": {
        "name": "ipython",
        "version": 3
      },
      "file_extension": ".py",
      "mimetype": "text/x-python",
      "name": "python",
      "nbconvert_exporter": "python",
      "pygments_lexer": "ipython3",
      "version": "3.7.4"
    },
    "colab": {
      "name": "Denis_Ustinov_Lab3.ipynb",
      "provenance": []
    }
  },
  "cells": [
    {
      "cell_type": "code",
      "metadata": {
        "id": "mGXt8PMkdYs1"
      },
      "source": [
        "import numpy as np\n",
        "import pandas as pd\n",
        "import seaborn as sns\n",
        "import matplotlib.pyplot as plt\n",
        "from sklearn.cluster import KMeans\n",
        "from sklearn.cluster import DBSCAN\n",
        "from scipy.spatial.distance import pdist\n",
        "from scipy.spatial.distance import cdist\n",
        "from sklearn.metrics import adjusted_rand_score\n",
        "from sklearn.preprocessing import StandardScaler\n",
        "from sklearn.model_selection import train_test_split\n",
        "from scipy.cluster.hierarchy import fcluster, linkage, cophenet, dendrogram\n",
        "from ipywidgets import interact, IntSlider, fixed, FloatSlider\n",
        "from sklearn.datasets import make_blobs\n",
        "from sklearn.decomposition import PCA"
      ],
      "execution_count": null,
      "outputs": []
    },
    {
      "cell_type": "code",
      "metadata": {
        "id": "IOk1B7vEdYs1"
      },
      "source": [
        "def job(x):\n",
        "  if x == 'housemaid':\n",
        "      return 0\n",
        "  elif x == 'services':\n",
        "      return 1\n",
        "  elif x=='admin.':\n",
        "    return 2\n",
        "  elif x=='technician':\n",
        "    return 3\n",
        "  elif x=='blue-collar':\n",
        "    return 4\n",
        "  elif x=='unemployed':\n",
        "    return 5\n",
        "  elif x=='retired':\n",
        "    return 6\n",
        "  elif x=='enterpreneur':\n",
        "    return 7\n",
        "  elif x=='management':\n",
        "    return 8\n",
        "  elif x=='self_employed':\n",
        "    return 9\n",
        "  elif x=='student':\n",
        "    return 10\n",
        "  else:\n",
        "      return -1\n",
        "def marital_status(x):\n",
        "  if x == 'married':\n",
        "      return 0\n",
        "  elif x == 'divorced':\n",
        "      return 1\n",
        "  elif x=='single':\n",
        "    return 2\n",
        "  else:\n",
        "      return -1\n",
        "def education(x):\n",
        "  if x == 'Primary_Education':\n",
        "      return 0\n",
        "  elif x == 'Secondary_Education':\n",
        "      return 1\n",
        "  elif x=='Professional_Education':\n",
        "    return 2\n",
        "  elif x=='Tertiary_Education':\n",
        "    return 3\n",
        "  else:\n",
        "    return -1\n",
        "def default_credit(x):\n",
        "    if x == 'no':\n",
        "        return 0\n",
        "    elif x == 'yes':\n",
        "        return 1  \n",
        "    else:\n",
        "        return -1\n",
        "def housing_loan(x):\n",
        "  if x == 'no':\n",
        "      return 0\n",
        "  elif x == 'yes':\n",
        "      return 1\n",
        "  else:\n",
        "      return -1\n",
        "def personal_loan(x):\n",
        "  if x=='no':\n",
        "    return 0\n",
        "  elif x=='yes':\n",
        "    return 1\n",
        "  else:\n",
        "    return -1\n",
        "def subscribed(x):\n",
        "  if x=='no':\n",
        "    return 0\n",
        "  elif x=='yes':\n",
        "    return 1\n",
        "  else:\n",
        "    return -1"
      ],
      "execution_count": null,
      "outputs": []
    },
    {
      "cell_type": "code",
      "metadata": {
        "id": "Buxp3OVSdYs1",
        "colab": {
          "base_uri": "https://localhost:8080/",
          "height": 402
        },
        "outputId": "a8219b09-d243-41f4-e14f-a4a156a25a73"
      },
      "source": [
        "file = pd.read_csv(\"Alpha_bank.csv\")\n",
        "file"
      ],
      "execution_count": null,
      "outputs": [
        {
          "output_type": "execute_result",
          "data": {
            "text/html": [
              "<div>\n",
              "<style scoped>\n",
              "    .dataframe tbody tr th:only-of-type {\n",
              "        vertical-align: middle;\n",
              "    }\n",
              "\n",
              "    .dataframe tbody tr th {\n",
              "        vertical-align: top;\n",
              "    }\n",
              "\n",
              "    .dataframe thead th {\n",
              "        text-align: right;\n",
              "    }\n",
              "</style>\n",
              "<table border=\"1\" class=\"dataframe\">\n",
              "  <thead>\n",
              "    <tr style=\"text-align: right;\">\n",
              "      <th></th>\n",
              "      <th>Age</th>\n",
              "      <th>Job</th>\n",
              "      <th>Marital_Status</th>\n",
              "      <th>Education</th>\n",
              "      <th>Default_Credit</th>\n",
              "      <th>Housing_Loan</th>\n",
              "      <th>Personal_Loan</th>\n",
              "      <th>Subscribed</th>\n",
              "    </tr>\n",
              "  </thead>\n",
              "  <tbody>\n",
              "    <tr>\n",
              "      <th>0</th>\n",
              "      <td>56</td>\n",
              "      <td>housemaid</td>\n",
              "      <td>married</td>\n",
              "      <td>Primary_Education</td>\n",
              "      <td>no</td>\n",
              "      <td>no</td>\n",
              "      <td>no</td>\n",
              "      <td>no</td>\n",
              "    </tr>\n",
              "    <tr>\n",
              "      <th>1</th>\n",
              "      <td>37</td>\n",
              "      <td>services</td>\n",
              "      <td>married</td>\n",
              "      <td>Secondary_Education</td>\n",
              "      <td>no</td>\n",
              "      <td>yes</td>\n",
              "      <td>no</td>\n",
              "      <td>no</td>\n",
              "    </tr>\n",
              "    <tr>\n",
              "      <th>2</th>\n",
              "      <td>40</td>\n",
              "      <td>admin.</td>\n",
              "      <td>married</td>\n",
              "      <td>Primary_Education</td>\n",
              "      <td>no</td>\n",
              "      <td>no</td>\n",
              "      <td>no</td>\n",
              "      <td>no</td>\n",
              "    </tr>\n",
              "    <tr>\n",
              "      <th>3</th>\n",
              "      <td>56</td>\n",
              "      <td>services</td>\n",
              "      <td>married</td>\n",
              "      <td>Secondary_Education</td>\n",
              "      <td>no</td>\n",
              "      <td>no</td>\n",
              "      <td>yes</td>\n",
              "      <td>no</td>\n",
              "    </tr>\n",
              "    <tr>\n",
              "      <th>4</th>\n",
              "      <td>59</td>\n",
              "      <td>admin.</td>\n",
              "      <td>married</td>\n",
              "      <td>Professional_Education</td>\n",
              "      <td>no</td>\n",
              "      <td>no</td>\n",
              "      <td>no</td>\n",
              "      <td>no</td>\n",
              "    </tr>\n",
              "    <tr>\n",
              "      <th>...</th>\n",
              "      <td>...</td>\n",
              "      <td>...</td>\n",
              "      <td>...</td>\n",
              "      <td>...</td>\n",
              "      <td>...</td>\n",
              "      <td>...</td>\n",
              "      <td>...</td>\n",
              "      <td>...</td>\n",
              "    </tr>\n",
              "    <tr>\n",
              "      <th>30472</th>\n",
              "      <td>73</td>\n",
              "      <td>retired</td>\n",
              "      <td>married</td>\n",
              "      <td>Professional_Education</td>\n",
              "      <td>no</td>\n",
              "      <td>yes</td>\n",
              "      <td>no</td>\n",
              "      <td>yes</td>\n",
              "    </tr>\n",
              "    <tr>\n",
              "      <th>30473</th>\n",
              "      <td>46</td>\n",
              "      <td>blue-collar</td>\n",
              "      <td>married</td>\n",
              "      <td>Professional_Education</td>\n",
              "      <td>no</td>\n",
              "      <td>no</td>\n",
              "      <td>no</td>\n",
              "      <td>no</td>\n",
              "    </tr>\n",
              "    <tr>\n",
              "      <th>30474</th>\n",
              "      <td>56</td>\n",
              "      <td>retired</td>\n",
              "      <td>married</td>\n",
              "      <td>Tertiary_Education</td>\n",
              "      <td>no</td>\n",
              "      <td>yes</td>\n",
              "      <td>no</td>\n",
              "      <td>no</td>\n",
              "    </tr>\n",
              "    <tr>\n",
              "      <th>30475</th>\n",
              "      <td>44</td>\n",
              "      <td>technician</td>\n",
              "      <td>married</td>\n",
              "      <td>Professional_Education</td>\n",
              "      <td>no</td>\n",
              "      <td>no</td>\n",
              "      <td>no</td>\n",
              "      <td>yes</td>\n",
              "    </tr>\n",
              "    <tr>\n",
              "      <th>30476</th>\n",
              "      <td>74</td>\n",
              "      <td>retired</td>\n",
              "      <td>married</td>\n",
              "      <td>Professional_Education</td>\n",
              "      <td>no</td>\n",
              "      <td>yes</td>\n",
              "      <td>no</td>\n",
              "      <td>no</td>\n",
              "    </tr>\n",
              "  </tbody>\n",
              "</table>\n",
              "<p>30477 rows × 8 columns</p>\n",
              "</div>"
            ],
            "text/plain": [
              "       Age          Job Marital_Status  ... Housing_Loan Personal_Loan Subscribed\n",
              "0       56    housemaid        married  ...           no            no         no\n",
              "1       37     services        married  ...          yes            no         no\n",
              "2       40       admin.        married  ...           no            no         no\n",
              "3       56     services        married  ...           no           yes         no\n",
              "4       59       admin.        married  ...           no            no         no\n",
              "...    ...          ...            ...  ...          ...           ...        ...\n",
              "30472   73      retired        married  ...          yes            no        yes\n",
              "30473   46  blue-collar        married  ...           no            no         no\n",
              "30474   56      retired        married  ...          yes            no         no\n",
              "30475   44   technician        married  ...           no            no        yes\n",
              "30476   74      retired        married  ...          yes            no         no\n",
              "\n",
              "[30477 rows x 8 columns]"
            ]
          },
          "metadata": {
            "tags": []
          },
          "execution_count": 40
        }
      ]
    },
    {
      "cell_type": "code",
      "metadata": {
        "id": "bNtzMUL55VLF"
      },
      "source": [
        "file['Job'] = file['Job'].apply(job)\n",
        "file['Marital_Status'] = file['Marital_Status'].apply(marital_status)\n",
        "file['Education'] = file['Education'].apply(education)\n",
        "file['Default_Credit'] = file['Default_Credit'].apply(default_credit)\n",
        "file['Housing_Loan'] = file['Housing_Loan'].apply(housing_loan)\n",
        "file['Personal_Loan'] = file['Personal_Loan'].apply(personal_loan)\n",
        "file['Subscribed'] = file['Subscribed'].apply(subscribed)"
      ],
      "execution_count": null,
      "outputs": []
    },
    {
      "cell_type": "code",
      "metadata": {
        "colab": {
          "base_uri": "https://localhost:8080/",
          "height": 402
        },
        "id": "OXX7p5Be6jg7",
        "outputId": "8674071f-6587-48e6-d5bf-e2f02f92b558"
      },
      "source": [
        "file"
      ],
      "execution_count": null,
      "outputs": [
        {
          "output_type": "execute_result",
          "data": {
            "text/html": [
              "<div>\n",
              "<style scoped>\n",
              "    .dataframe tbody tr th:only-of-type {\n",
              "        vertical-align: middle;\n",
              "    }\n",
              "\n",
              "    .dataframe tbody tr th {\n",
              "        vertical-align: top;\n",
              "    }\n",
              "\n",
              "    .dataframe thead th {\n",
              "        text-align: right;\n",
              "    }\n",
              "</style>\n",
              "<table border=\"1\" class=\"dataframe\">\n",
              "  <thead>\n",
              "    <tr style=\"text-align: right;\">\n",
              "      <th></th>\n",
              "      <th>Age</th>\n",
              "      <th>Job</th>\n",
              "      <th>Marital_Status</th>\n",
              "      <th>Education</th>\n",
              "      <th>Default_Credit</th>\n",
              "      <th>Housing_Loan</th>\n",
              "      <th>Personal_Loan</th>\n",
              "      <th>Subscribed</th>\n",
              "    </tr>\n",
              "  </thead>\n",
              "  <tbody>\n",
              "    <tr>\n",
              "      <th>0</th>\n",
              "      <td>56</td>\n",
              "      <td>0</td>\n",
              "      <td>0</td>\n",
              "      <td>0</td>\n",
              "      <td>0</td>\n",
              "      <td>0</td>\n",
              "      <td>0</td>\n",
              "      <td>0</td>\n",
              "    </tr>\n",
              "    <tr>\n",
              "      <th>1</th>\n",
              "      <td>37</td>\n",
              "      <td>1</td>\n",
              "      <td>0</td>\n",
              "      <td>1</td>\n",
              "      <td>0</td>\n",
              "      <td>1</td>\n",
              "      <td>0</td>\n",
              "      <td>0</td>\n",
              "    </tr>\n",
              "    <tr>\n",
              "      <th>2</th>\n",
              "      <td>40</td>\n",
              "      <td>2</td>\n",
              "      <td>0</td>\n",
              "      <td>0</td>\n",
              "      <td>0</td>\n",
              "      <td>0</td>\n",
              "      <td>0</td>\n",
              "      <td>0</td>\n",
              "    </tr>\n",
              "    <tr>\n",
              "      <th>3</th>\n",
              "      <td>56</td>\n",
              "      <td>1</td>\n",
              "      <td>0</td>\n",
              "      <td>1</td>\n",
              "      <td>0</td>\n",
              "      <td>0</td>\n",
              "      <td>1</td>\n",
              "      <td>0</td>\n",
              "    </tr>\n",
              "    <tr>\n",
              "      <th>4</th>\n",
              "      <td>59</td>\n",
              "      <td>2</td>\n",
              "      <td>0</td>\n",
              "      <td>2</td>\n",
              "      <td>0</td>\n",
              "      <td>0</td>\n",
              "      <td>0</td>\n",
              "      <td>0</td>\n",
              "    </tr>\n",
              "    <tr>\n",
              "      <th>...</th>\n",
              "      <td>...</td>\n",
              "      <td>...</td>\n",
              "      <td>...</td>\n",
              "      <td>...</td>\n",
              "      <td>...</td>\n",
              "      <td>...</td>\n",
              "      <td>...</td>\n",
              "      <td>...</td>\n",
              "    </tr>\n",
              "    <tr>\n",
              "      <th>30472</th>\n",
              "      <td>73</td>\n",
              "      <td>6</td>\n",
              "      <td>0</td>\n",
              "      <td>2</td>\n",
              "      <td>0</td>\n",
              "      <td>1</td>\n",
              "      <td>0</td>\n",
              "      <td>1</td>\n",
              "    </tr>\n",
              "    <tr>\n",
              "      <th>30473</th>\n",
              "      <td>46</td>\n",
              "      <td>4</td>\n",
              "      <td>0</td>\n",
              "      <td>2</td>\n",
              "      <td>0</td>\n",
              "      <td>0</td>\n",
              "      <td>0</td>\n",
              "      <td>0</td>\n",
              "    </tr>\n",
              "    <tr>\n",
              "      <th>30474</th>\n",
              "      <td>56</td>\n",
              "      <td>6</td>\n",
              "      <td>0</td>\n",
              "      <td>3</td>\n",
              "      <td>0</td>\n",
              "      <td>1</td>\n",
              "      <td>0</td>\n",
              "      <td>0</td>\n",
              "    </tr>\n",
              "    <tr>\n",
              "      <th>30475</th>\n",
              "      <td>44</td>\n",
              "      <td>3</td>\n",
              "      <td>0</td>\n",
              "      <td>2</td>\n",
              "      <td>0</td>\n",
              "      <td>0</td>\n",
              "      <td>0</td>\n",
              "      <td>1</td>\n",
              "    </tr>\n",
              "    <tr>\n",
              "      <th>30476</th>\n",
              "      <td>74</td>\n",
              "      <td>6</td>\n",
              "      <td>0</td>\n",
              "      <td>2</td>\n",
              "      <td>0</td>\n",
              "      <td>1</td>\n",
              "      <td>0</td>\n",
              "      <td>0</td>\n",
              "    </tr>\n",
              "  </tbody>\n",
              "</table>\n",
              "<p>30477 rows × 8 columns</p>\n",
              "</div>"
            ],
            "text/plain": [
              "       Age  Job  Marital_Status  ...  Housing_Loan  Personal_Loan  Subscribed\n",
              "0       56    0               0  ...             0              0           0\n",
              "1       37    1               0  ...             1              0           0\n",
              "2       40    2               0  ...             0              0           0\n",
              "3       56    1               0  ...             0              1           0\n",
              "4       59    2               0  ...             0              0           0\n",
              "...    ...  ...             ...  ...           ...            ...         ...\n",
              "30472   73    6               0  ...             1              0           1\n",
              "30473   46    4               0  ...             0              0           0\n",
              "30474   56    6               0  ...             1              0           0\n",
              "30475   44    3               0  ...             0              0           1\n",
              "30476   74    6               0  ...             1              0           0\n",
              "\n",
              "[30477 rows x 8 columns]"
            ]
          },
          "metadata": {
            "tags": []
          },
          "execution_count": 42
        }
      ]
    },
    {
      "cell_type": "code",
      "metadata": {
        "id": "sWwWEXHydYs1"
      },
      "source": [
        "file_new = file.columns.tolist()\n",
        "target = file_new.pop(3)\n",
        "clusters=range(1,11)\n",
        "mean=[]"
      ],
      "execution_count": null,
      "outputs": []
    },
    {
      "cell_type": "code",
      "metadata": {
        "id": "KSxBnxuidYs2",
        "colab": {
          "base_uri": "https://localhost:8080/",
          "height": 282
        },
        "outputId": "cecafff0-3491-4bd4-daad-979c2aa95023"
      },
      "source": [
        "for k in clusters:\n",
        "    model = KMeans(n_clusters=k)\n",
        "    model.fit(file)\n",
        "    mean.append(sum(np.min(cdist(file, model.cluster_centers_,\"euclidean\"),axis = 1))/file.shape[0])\n",
        "plt.plot(clusters, mean)"
      ],
      "execution_count": null,
      "outputs": [
        {
          "output_type": "execute_result",
          "data": {
            "text/plain": [
              "[<matplotlib.lines.Line2D at 0x7f984e174a58>]"
            ]
          },
          "metadata": {
            "tags": []
          },
          "execution_count": 44
        },
        {
          "output_type": "display_data",
          "data": {
            "image/png": "[encoded data removed]",
            "text/plain": [
              "<Figure size 432x288 with 1 Axes>"
            ]
          },
          "metadata": {
            "tags": [],
            "needs_background": "light"
          }
        }
      ]
    },
    {
      "cell_type": "code",
      "metadata": {
        "id": "bOyCmeN6dYs2",
        "colab": {
          "base_uri": "https://localhost:8080/"
        },
        "outputId": "4214a2ac-c4ba-49fd-d34f-8eab0cbdf7bf"
      },
      "source": [
        "kmeans = KMeans(n_clusters=2, random_state=0)\n",
        "kmeans.fit(file[file_new])\n",
        "adjusted_rand_score(file[target], kmeans.labels_)"
      ],
      "execution_count": null,
      "outputs": [
        {
          "output_type": "execute_result",
          "data": {
            "text/plain": [
              "0.024169010779343917"
            ]
          },
          "metadata": {
            "tags": []
          },
          "execution_count": 52
        }
      ]
    },
    {
      "cell_type": "code",
      "metadata": {
        "id": "WhLHL_25dYs3",
        "colab": {
          "base_uri": "https://localhost:8080/"
        },
        "outputId": "6038cabf-fbc3-44e2-be8d-3000d7a99d7f"
      },
      "source": [
        "stud = linkage(file[file_new], method = \"centroid\")\n",
        "labels = fcluster(stud, 2, criterion = \"maxclust\")\n",
        "adjusted_rand_score(file[target], labels)"
      ],
      "execution_count": null,
      "outputs": [
        {
          "output_type": "execute_result",
          "data": {
            "text/plain": [
              "0.011347166532750133"
            ]
          },
          "metadata": {
            "tags": []
          },
          "execution_count": 53
        }
      ]
    },
    {
      "cell_type": "code",
      "metadata": {
        "colab": {
          "base_uri": "https://localhost:8080/",
          "height": 320
        },
        "id": "KxO_cS9D_ulV",
        "outputId": "dd75cf23-9f49-4f6b-b900-559e7446fc68"
      },
      "source": [
        "dbscan = DBSCAN(eps=0.5, min_samples=5).fit(file[file_new])\n",
        "file[target] = dbscan.labels_+1\n",
        "plt.figure(figsize=(7,5))\n",
        "plt.scatter(file.iloc[:,0], file.iloc[:,3], c=dbscan.labels_+1)\n",
        "plt.show()"
      ],
      "execution_count": null,
      "outputs": [
        {
          "output_type": "display_data",
          "data": {
            "image/png": "[encoded data removed]",
            "text/plain": [
              "<Figure size 504x360 with 1 Axes>"
            ]
          },
          "metadata": {
            "tags": [],
            "needs_background": "light"
          }
        }
      ]
    },
    {
      "cell_type": "code",
      "metadata": {
        "colab": {
          "base_uri": "https://localhost:8080/",
          "height": 391
        },
        "id": "Fvsh9klPdYs3",
        "outputId": "71e32416-78b0-48f0-a321-fa88376d7b02"
      },
      "source": [
        "plt.figure(figsize=(8, 6))\n",
        "plt.scatter(file.iloc[:,0],file.iloc[:,1], c=kmeans.labels_.astype(float))"
      ],
      "execution_count": null,
      "outputs": [
        {
          "output_type": "execute_result",
          "data": {
            "text/plain": [
              "<matplotlib.collections.PathCollection at 0x7f984ccd4ba8>"
            ]
          },
          "metadata": {
            "tags": []
          },
          "execution_count": 49
        },
        {
          "output_type": "display_data",
          "data": {
            "image/png": "[encoded data removed]",
            "text/plain": [
              "<Figure size 576x432 with 1 Axes>"
            ]
          },
          "metadata": {
            "tags": [],
            "needs_background": "light"
          }
        }
      ]
    }
  ]
}