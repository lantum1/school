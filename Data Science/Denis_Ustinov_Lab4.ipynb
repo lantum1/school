{
  "nbformat": 4,
  "nbformat_minor": 0,
  "metadata": {
    "colab": {
      "name": "Denis_Ustinov_11I_Lab_4.ipynb",
      "provenance": [],
      "collapsed_sections": []
    },
    "kernelspec": {
      "display_name": "Python 3",
      "language": "python",
      "name": "python3"
    },
    "language_info": {
      "codemirror_mode": {
        "name": "ipython",
        "version": 3
      },
      "file_extension": ".py",
      "mimetype": "text/x-python",
      "name": "python",
      "nbconvert_exporter": "python",
      "pygments_lexer": "ipython3",
      "version": "3.7.4"
    },
    "widgets": {
      "application/vnd.jupyter.widget-state+json": {
        "6f7d14901ab0430da087ebe147bc684c": {
          "model_module": "@jupyter-widgets/controls",
          "model_name": "VBoxModel",
          "state": {
            "_view_name": "VBoxView",
            "_dom_classes": [
              "widget-interact"
            ],
            "_model_name": "VBoxModel",
            "_view_module": "@jupyter-widgets/controls",
            "_model_module_version": "1.5.0",
            "_view_count": null,
            "_view_module_version": "1.5.0",
            "box_style": "",
            "layout": "IPY_MODEL_8c388cd68e6343de9c11ef36fda0474b",
            "_model_module": "@jupyter-widgets/controls",
            "children": [
              "IPY_MODEL_fbf753c97d5e4efda770a212be8bf333",
              "IPY_MODEL_7ee896aa985d43da9cd4a53ced6ef397"
            ]
          }
        },
        "8c388cd68e6343de9c11ef36fda0474b": {
          "model_module": "@jupyter-widgets/base",
          "model_name": "LayoutModel",
          "state": {
            "_view_name": "LayoutView",
            "grid_template_rows": null,
            "right": null,
            "justify_content": null,
            "_view_module": "@jupyter-widgets/base",
            "overflow": null,
            "_model_module_version": "1.2.0",
            "_view_count": null,
            "flex_flow": null,
            "width": null,
            "min_width": null,
            "border": null,
            "align_items": null,
            "bottom": null,
            "_model_module": "@jupyter-widgets/base",
            "top": null,
            "grid_column": null,
            "overflow_y": null,
            "overflow_x": null,
            "grid_auto_flow": null,
            "grid_area": null,
            "grid_template_columns": null,
            "flex": null,
            "_model_name": "LayoutModel",
            "justify_items": null,
            "grid_row": null,
            "max_height": null,
            "align_content": null,
            "visibility": null,
            "align_self": null,
            "height": null,
            "min_height": null,
            "padding": null,
            "grid_auto_rows": null,
            "grid_gap": null,
            "max_width": null,
            "order": null,
            "_view_module_version": "1.2.0",
            "grid_template_areas": null,
            "object_position": null,
            "object_fit": null,
            "grid_auto_columns": null,
            "margin": null,
            "display": null,
            "left": null
          }
        },
        "fbf753c97d5e4efda770a212be8bf333": {
          "model_module": "@jupyter-widgets/controls",
          "model_name": "IntSliderModel",
          "state": {
            "_view_name": "IntSliderView",
            "style": "IPY_MODEL_c03e58c5a3e14993bbfa24f838a431f9",
            "_dom_classes": [],
            "description": "n_neighbors",
            "step": 1,
            "_model_name": "IntSliderModel",
            "orientation": "horizontal",
            "max": 15,
            "_view_module": "@jupyter-widgets/controls",
            "_model_module_version": "1.5.0",
            "value": 1,
            "_view_count": null,
            "disabled": false,
            "_view_module_version": "1.5.0",
            "min": 1,
            "continuous_update": true,
            "readout_format": "d",
            "description_tooltip": null,
            "readout": true,
            "_model_module": "@jupyter-widgets/controls",
            "layout": "IPY_MODEL_6362d3cec5dc42a6b8fc948ed8153f90"
          }
        },
        "7ee896aa985d43da9cd4a53ced6ef397": {
          "model_module": "@jupyter-widgets/output",
          "model_name": "OutputModel",
          "state": {
            "_view_name": "OutputView",
            "msg_id": "",
            "_dom_classes": [],
            "_model_name": "OutputModel",
            "outputs": [
              {
                "output_type": "display_data",
                "metadata": {
                  "tags": []
                },
                "text/plain": "0.391304347826087"
              }
            ],
            "_view_module": "@jupyter-widgets/output",
            "_model_module_version": "1.0.0",
            "_view_count": null,
            "_view_module_version": "1.0.0",
            "layout": "IPY_MODEL_c7eabda210bb47f88aed6024ea945308",
            "_model_module": "@jupyter-widgets/output"
          }
        },
        "c03e58c5a3e14993bbfa24f838a431f9": {
          "model_module": "@jupyter-widgets/controls",
          "model_name": "SliderStyleModel",
          "state": {
            "_view_name": "StyleView",
            "handle_color": null,
            "_model_name": "SliderStyleModel",
            "description_width": "",
            "_view_module": "@jupyter-widgets/base",
            "_model_module_version": "1.5.0",
            "_view_count": null,
            "_view_module_version": "1.2.0",
            "_model_module": "@jupyter-widgets/controls"
          }
        },
        "6362d3cec5dc42a6b8fc948ed8153f90": {
          "model_module": "@jupyter-widgets/base",
          "model_name": "LayoutModel",
          "state": {
            "_view_name": "LayoutView",
            "grid_template_rows": null,
            "right": null,
            "justify_content": null,
            "_view_module": "@jupyter-widgets/base",
            "overflow": null,
            "_model_module_version": "1.2.0",
            "_view_count": null,
            "flex_flow": null,
            "width": null,
            "min_width": null,
            "border": null,
            "align_items": null,
            "bottom": null,
            "_model_module": "@jupyter-widgets/base",
            "top": null,
            "grid_column": null,
            "overflow_y": null,
            "overflow_x": null,
            "grid_auto_flow": null,
            "grid_area": null,
            "grid_template_columns": null,
            "flex": null,
            "_model_name": "LayoutModel",
            "justify_items": null,
            "grid_row": null,
            "max_height": null,
            "align_content": null,
            "visibility": null,
            "align_self": null,
            "height": null,
            "min_height": null,
            "padding": null,
            "grid_auto_rows": null,
            "grid_gap": null,
            "max_width": null,
            "order": null,
            "_view_module_version": "1.2.0",
            "grid_template_areas": null,
            "object_position": null,
            "object_fit": null,
            "grid_auto_columns": null,
            "margin": null,
            "display": null,
            "left": null
          }
        },
        "c7eabda210bb47f88aed6024ea945308": {
          "model_module": "@jupyter-widgets/base",
          "model_name": "LayoutModel",
          "state": {
            "_view_name": "LayoutView",
            "grid_template_rows": null,
            "right": null,
            "justify_content": null,
            "_view_module": "@jupyter-widgets/base",
            "overflow": null,
            "_model_module_version": "1.2.0",
            "_view_count": null,
            "flex_flow": null,
            "width": null,
            "min_width": null,
            "border": null,
            "align_items": null,
            "bottom": null,
            "_model_module": "@jupyter-widgets/base",
            "top": null,
            "grid_column": null,
            "overflow_y": null,
            "overflow_x": null,
            "grid_auto_flow": null,
            "grid_area": null,
            "grid_template_columns": null,
            "flex": null,
            "_model_name": "LayoutModel",
            "justify_items": null,
            "grid_row": null,
            "max_height": null,
            "align_content": null,
            "visibility": null,
            "align_self": null,
            "height": null,
            "min_height": null,
            "padding": null,
            "grid_auto_rows": null,
            "grid_gap": null,
            "max_width": null,
            "order": null,
            "_view_module_version": "1.2.0",
            "grid_template_areas": null,
            "object_position": null,
            "object_fit": null,
            "grid_auto_columns": null,
            "margin": null,
            "display": null,
            "left": null
          }
        }
      }
    }
  },
  "cells": [
    {
      "cell_type": "code",
      "metadata": {
        "id": "gT5UF0JWG_Sy"
      },
      "source": [
        "import numpy as np\n",
        "import pandas as pd\n",
        "import random\n",
        "from sklearn.neighbors import KNeighborsClassifier\n",
        "from sklearn import metrics\n",
        "from sklearn import preprocessing\n",
        "from sklearn.model_selection import train_test_split\n",
        "from sklearn.metrics import confusion_matrix\n",
        "from sklearn.cluster import DBSCAN\n",
        "from sklearn.cluster import AgglomerativeClustering\n",
        "from ipywidgets import interact, IntSlider, fixed, FloatSlider\n",
        "import matplotlib.pyplot as plt"
      ],
      "execution_count": 139,
      "outputs": []
    },
    {
      "cell_type": "code",
      "metadata": {
        "colab": {
          "base_uri": "https://localhost:8080/",
          "height": 654
        },
        "id": "VwXUwb8xHt_o",
        "outputId": "2bf3a2c4-82cd-4638-d918-b4044d32236f"
      },
      "source": [
        "file = pd.read_csv('Alpha_bank.csv')\n",
        "file.info()\n",
        "file = file[::50]\n",
        "file"
      ],
      "execution_count": 140,
      "outputs": [
        {
          "output_type": "stream",
          "text": [
            "<class 'pandas.core.frame.DataFrame'>\n",
            "RangeIndex: 30477 entries, 0 to 30476\n",
            "Data columns (total 8 columns):\n",
            " #   Column          Non-Null Count  Dtype \n",
            "---  ------          --------------  ----- \n",
            " 0   Age             30477 non-null  int64 \n",
            " 1   Job             30477 non-null  object\n",
            " 2   Marital_Status  30477 non-null  object\n",
            " 3   Education       30477 non-null  object\n",
            " 4   Default_Credit  30477 non-null  object\n",
            " 5   Housing_Loan    30477 non-null  object\n",
            " 6   Personal_Loan   30477 non-null  object\n",
            " 7   Subscribed      30477 non-null  object\n",
            "dtypes: int64(1), object(7)\n",
            "memory usage: 1.9+ MB\n"
          ],
          "name": "stdout"
        },
        {
          "output_type": "execute_result",
          "data": {
            "text/html": [
              "<div>\n",
              "<style scoped>\n",
              "    .dataframe tbody tr th:only-of-type {\n",
              "        vertical-align: middle;\n",
              "    }\n",
              "\n",
              "    .dataframe tbody tr th {\n",
              "        vertical-align: top;\n",
              "    }\n",
              "\n",
              "    .dataframe thead th {\n",
              "        text-align: right;\n",
              "    }\n",
              "</style>\n",
              "<table border=\"1\" class=\"dataframe\">\n",
              "  <thead>\n",
              "    <tr style=\"text-align: right;\">\n",
              "      <th></th>\n",
              "      <th>Age</th>\n",
              "      <th>Job</th>\n",
              "      <th>Marital_Status</th>\n",
              "      <th>Education</th>\n",
              "      <th>Default_Credit</th>\n",
              "      <th>Housing_Loan</th>\n",
              "      <th>Personal_Loan</th>\n",
              "      <th>Subscribed</th>\n",
              "    </tr>\n",
              "  </thead>\n",
              "  <tbody>\n",
              "    <tr>\n",
              "      <th>0</th>\n",
              "      <td>56</td>\n",
              "      <td>housemaid</td>\n",
              "      <td>married</td>\n",
              "      <td>Primary_Education</td>\n",
              "      <td>no</td>\n",
              "      <td>no</td>\n",
              "      <td>no</td>\n",
              "      <td>no</td>\n",
              "    </tr>\n",
              "    <tr>\n",
              "      <th>50</th>\n",
              "      <td>33</td>\n",
              "      <td>unemployed</td>\n",
              "      <td>married</td>\n",
              "      <td>Secondary_Education</td>\n",
              "      <td>no</td>\n",
              "      <td>no</td>\n",
              "      <td>no</td>\n",
              "      <td>no</td>\n",
              "    </tr>\n",
              "    <tr>\n",
              "      <th>100</th>\n",
              "      <td>57</td>\n",
              "      <td>management</td>\n",
              "      <td>married</td>\n",
              "      <td>Tertiary_Education</td>\n",
              "      <td>no</td>\n",
              "      <td>no</td>\n",
              "      <td>no</td>\n",
              "      <td>no</td>\n",
              "    </tr>\n",
              "    <tr>\n",
              "      <th>150</th>\n",
              "      <td>54</td>\n",
              "      <td>management</td>\n",
              "      <td>divorced</td>\n",
              "      <td>Tertiary_Education</td>\n",
              "      <td>no</td>\n",
              "      <td>no</td>\n",
              "      <td>no</td>\n",
              "      <td>no</td>\n",
              "    </tr>\n",
              "    <tr>\n",
              "      <th>200</th>\n",
              "      <td>52</td>\n",
              "      <td>technician</td>\n",
              "      <td>married</td>\n",
              "      <td>Secondary_Education</td>\n",
              "      <td>no</td>\n",
              "      <td>yes</td>\n",
              "      <td>no</td>\n",
              "      <td>no</td>\n",
              "    </tr>\n",
              "    <tr>\n",
              "      <th>...</th>\n",
              "      <td>...</td>\n",
              "      <td>...</td>\n",
              "      <td>...</td>\n",
              "      <td>...</td>\n",
              "      <td>...</td>\n",
              "      <td>...</td>\n",
              "      <td>...</td>\n",
              "      <td>...</td>\n",
              "    </tr>\n",
              "    <tr>\n",
              "      <th>30250</th>\n",
              "      <td>27</td>\n",
              "      <td>student</td>\n",
              "      <td>single</td>\n",
              "      <td>Secondary_Education</td>\n",
              "      <td>no</td>\n",
              "      <td>no</td>\n",
              "      <td>no</td>\n",
              "      <td>no</td>\n",
              "    </tr>\n",
              "    <tr>\n",
              "      <th>30300</th>\n",
              "      <td>54</td>\n",
              "      <td>services</td>\n",
              "      <td>divorced</td>\n",
              "      <td>Secondary_Education</td>\n",
              "      <td>no</td>\n",
              "      <td>yes</td>\n",
              "      <td>yes</td>\n",
              "      <td>yes</td>\n",
              "    </tr>\n",
              "    <tr>\n",
              "      <th>30350</th>\n",
              "      <td>21</td>\n",
              "      <td>student</td>\n",
              "      <td>single</td>\n",
              "      <td>Secondary_Education</td>\n",
              "      <td>no</td>\n",
              "      <td>no</td>\n",
              "      <td>no</td>\n",
              "      <td>yes</td>\n",
              "    </tr>\n",
              "    <tr>\n",
              "      <th>30400</th>\n",
              "      <td>33</td>\n",
              "      <td>admin.</td>\n",
              "      <td>married</td>\n",
              "      <td>Tertiary_Education</td>\n",
              "      <td>no</td>\n",
              "      <td>yes</td>\n",
              "      <td>no</td>\n",
              "      <td>yes</td>\n",
              "    </tr>\n",
              "    <tr>\n",
              "      <th>30450</th>\n",
              "      <td>33</td>\n",
              "      <td>admin.</td>\n",
              "      <td>married</td>\n",
              "      <td>Tertiary_Education</td>\n",
              "      <td>no</td>\n",
              "      <td>no</td>\n",
              "      <td>no</td>\n",
              "      <td>yes</td>\n",
              "    </tr>\n",
              "  </tbody>\n",
              "</table>\n",
              "<p>610 rows × 8 columns</p>\n",
              "</div>"
            ],
            "text/plain": [
              "       Age         Job Marital_Status  ... Housing_Loan Personal_Loan Subscribed\n",
              "0       56   housemaid        married  ...           no            no         no\n",
              "50      33  unemployed        married  ...           no            no         no\n",
              "100     57  management        married  ...           no            no         no\n",
              "150     54  management       divorced  ...           no            no         no\n",
              "200     52  technician        married  ...          yes            no         no\n",
              "...    ...         ...            ...  ...          ...           ...        ...\n",
              "30250   27     student         single  ...           no            no         no\n",
              "30300   54    services       divorced  ...          yes           yes        yes\n",
              "30350   21     student         single  ...           no            no        yes\n",
              "30400   33      admin.        married  ...          yes            no        yes\n",
              "30450   33      admin.        married  ...           no            no        yes\n",
              "\n",
              "[610 rows x 8 columns]"
            ]
          },
          "metadata": {
            "tags": []
          },
          "execution_count": 140
        }
      ]
    },
    {
      "cell_type": "code",
      "metadata": {
        "id": "7nfhOg4mJLc-"
      },
      "source": [
        "def job(x):\n",
        "  if x == 'housemaid':\n",
        "      return 0\n",
        "  elif x == 'services':\n",
        "      return 1\n",
        "  elif x=='admin.':\n",
        "    return 2\n",
        "  elif x=='technician':\n",
        "    return 3\n",
        "  elif x=='blue-collar':\n",
        "    return 4\n",
        "  elif x=='unemployed':\n",
        "    return 5\n",
        "  elif x=='retired':\n",
        "    return 6\n",
        "  elif x=='enterpreneur':\n",
        "    return 7\n",
        "  elif x=='management':\n",
        "    return 8\n",
        "  elif x=='self_employed':\n",
        "    return 9\n",
        "  elif x=='student':\n",
        "    return 10\n",
        "  else:\n",
        "      return -1\n",
        "def marital_status(x):\n",
        "  if x == 'married':\n",
        "      return 0\n",
        "  elif x == 'divorced':\n",
        "      return 1\n",
        "  elif x=='single':\n",
        "    return 2\n",
        "  else:\n",
        "      return -1\n",
        "def education(x):\n",
        "  if x == 'Primary_Education':\n",
        "      return 0\n",
        "  elif x == 'Secondary_Education':\n",
        "      return 1\n",
        "  elif x=='Professional_Education':\n",
        "    return 2\n",
        "  elif x=='Tertiary_Education':\n",
        "    return 3\n",
        "  else:\n",
        "    return -1\n",
        "def default_credit(x):\n",
        "    if x == 'no':\n",
        "        return 0\n",
        "    elif x == 'yes':\n",
        "        return 1  \n",
        "    else:\n",
        "        return -1\n",
        "def housing_loan(x):\n",
        "  if x == 'no':\n",
        "      return 0\n",
        "  elif x == 'yes':\n",
        "      return 1\n",
        "  else:\n",
        "      return -1\n",
        "def personal_loan(x):\n",
        "  if x=='no':\n",
        "    return 0\n",
        "  elif x=='yes':\n",
        "    return 1\n",
        "  else:\n",
        "    return -1\n",
        "def subscribed(x):\n",
        "  if x=='no':\n",
        "    return 0\n",
        "  elif x=='yes':\n",
        "    return 1\n",
        "  else:\n",
        "    return -1\n",
        "file['Job'] = file['Job'].apply(job)\n",
        "file['Marital_Status'] = file['Marital_Status'].apply(marital_status)\n",
        "file['Education'] = file['Education'].apply(education)\n",
        "file['Default_Credit'] = file['Default_Credit'].apply(default_credit)\n",
        "file['Housing_Loan'] = file['Housing_Loan'].apply(housing_loan)\n",
        "file['Personal_Loan'] = file['Personal_Loan'].apply(personal_loan)\n",
        "file['Subscribed'] = file['Subscribed'].apply(subscribed)"
      ],
      "execution_count": 141,
      "outputs": []
    },
    {
      "cell_type": "code",
      "metadata": {
        "id": "rCVWa4LDPfLh"
      },
      "source": [
        "file_new = file.columns.tolist()\n",
        "target = file_new.pop(3)\n",
        "X = file[file_new]\n",
        "y = file[target]"
      ],
      "execution_count": 142,
      "outputs": []
    },
    {
      "cell_type": "code",
      "metadata": {
        "id": "5jgl2htXKVvm"
      },
      "source": [
        "x_train, x_test, y_train, y_test=train_test_split(X, y, test_size = 0.15)"
      ],
      "execution_count": 143,
      "outputs": []
    },
    {
      "cell_type": "code",
      "metadata": {
        "colab": {
          "base_uri": "https://localhost:8080/",
          "height": 282
        },
        "id": "NKzsxzq_Lk3q",
        "outputId": "1b8c94ec-3dfd-4871-d797-5a874f8e2392"
      },
      "source": [
        "knn = KNeighborsClassifier(n_neighbors=1, weights='uniform', metric='euclidean')\n",
        "knn.fit(x_train, y_train)\n",
        "y_pred = knn.predict(x_test)\n",
        "for i in y.unique():\n",
        "    plt.scatter(x_test[\"Age\"][y_pred == i], x_test['Job'][y_pred == i])\n",
        "plt.show"
      ],
      "execution_count": 144,
      "outputs": [
        {
          "output_type": "execute_result",
          "data": {
            "text/plain": [
              "<function matplotlib.pyplot.show>"
            ]
          },
          "metadata": {
            "tags": []
          },
          "execution_count": 144
        },
        {
          "output_type": "display_data",
          "data": {
            "image/png": "[encoded data removed]",
            "text/plain": [
              "<Figure size 432x288 with 1 Axes>"
            ]
          },
          "metadata": {
            "tags": [],
            "needs_background": "light"
          }
        }
      ]
    },
    {
      "cell_type": "code",
      "metadata": {
        "colab": {
          "base_uri": "https://localhost:8080/"
        },
        "id": "cf__zzvGL260",
        "outputId": "f0660331-0559-436e-bca5-3288d51b9def"
      },
      "source": [
        "def calc_acc(y_pred, y_test):\n",
        "    acc = 0\n",
        "    for i,j in zip(y_pred, y_test):\n",
        "        if i == j:\n",
        "            acc += 1 \n",
        "    acc /=len(y_test)\n",
        "    return acc\n",
        "calc_acc(y_pred, y_test)"
      ],
      "execution_count": 145,
      "outputs": [
        {
          "output_type": "execute_result",
          "data": {
            "text/plain": [
              "0.391304347826087"
            ]
          },
          "metadata": {
            "tags": []
          },
          "execution_count": 145
        }
      ]
    },
    {
      "cell_type": "code",
      "metadata": {
        "colab": {
          "base_uri": "https://localhost:8080/"
        },
        "id": "F99-KOf2MEku",
        "outputId": "91486df6-046b-4933-dc14-24b7c4320ef2"
      },
      "source": [
        "def calc_prec(y_pred, y_test):\n",
        "    prec = 0\n",
        "    rec = 0\n",
        "    for i,j in zip(y_pred, y_test):\n",
        "        if i == j and i == 2:\n",
        "            prec+=1 \n",
        "        if i != j and i == 2:\n",
        "            rec += 1 \n",
        "    prec /= (prec + rec)\n",
        "    return prec\n",
        "calc_prec(y_pred, y_test)"
      ],
      "execution_count": 146,
      "outputs": [
        {
          "output_type": "execute_result",
          "data": {
            "text/plain": [
              "0.2727272727272727"
            ]
          },
          "metadata": {
            "tags": []
          },
          "execution_count": 146
        }
      ]
    },
    {
      "cell_type": "code",
      "metadata": {
        "colab": {
          "base_uri": "https://localhost:8080/"
        },
        "id": "P4w_B22zMIpV",
        "outputId": "318bc630-b895-45ed-e580-f33076b68f1f"
      },
      "source": [
        "def calc_recall(y_pred, y_test):\n",
        "    prec = 0\n",
        "    recall = 0\n",
        "    for i,j in zip(y_pred, y_test):\n",
        "        if i == j and i == 2:\n",
        "            recall += 1\n",
        "        if i != j and i == 2:\n",
        "            prec += 1 \n",
        "    recall /= (recall + prec)\n",
        "    return recall\n",
        "calc_recall(y_pred, y_test)"
      ],
      "execution_count": 147,
      "outputs": [
        {
          "output_type": "execute_result",
          "data": {
            "text/plain": [
              "0.2727272727272727"
            ]
          },
          "metadata": {
            "tags": []
          },
          "execution_count": 147
        }
      ]
    },
    {
      "cell_type": "code",
      "metadata": {
        "colab": {
          "base_uri": "https://localhost:8080/",
          "height": 82,
          "referenced_widgets": [
            "6f7d14901ab0430da087ebe147bc684c",
            "8c388cd68e6343de9c11ef36fda0474b",
            "fbf753c97d5e4efda770a212be8bf333",
            "7ee896aa985d43da9cd4a53ced6ef397",
            "c03e58c5a3e14993bbfa24f838a431f9",
            "6362d3cec5dc42a6b8fc948ed8153f90",
            "c7eabda210bb47f88aed6024ea945308"
          ]
        },
        "id": "9oH4ga4kMMl3",
        "outputId": "0658ba95-5f73-48c0-ed36-65bdfbeda705"
      },
      "source": [
        "def neighbours (n_neighbors=3):\n",
        "    knn = KNeighborsClassifier(n_neighbors=n_neighbors)\n",
        "    knn.fit(x_train, y_train)\n",
        "    y_pred=knn.predict(x_test)\n",
        "    return calc_acc(y_pred, y_test)\n",
        "interact(neighbours, n_neighbors=IntSlider(min=1, max=15, step=1))"
      ],
      "execution_count": 148,
      "outputs": [
        {
          "output_type": "display_data",
          "data": {
            "application/vnd.jupyter.widget-view+json": {
              "model_id": "6f7d14901ab0430da087ebe147bc684c",
              "version_minor": 0,
              "version_major": 2
            },
            "text/plain": [
              "interactive(children=(IntSlider(value=1, description='n_neighbors', max=15, min=1), Output()), _dom_classes=('…"
            ]
          },
          "metadata": {
            "tags": []
          }
        },
        {
          "output_type": "execute_result",
          "data": {
            "text/plain": [
              "<function __main__.neighbours>"
            ]
          },
          "metadata": {
            "tags": []
          },
          "execution_count": 148
        }
      ]
    },
    {
      "cell_type": "code",
      "metadata": {
        "colab": {
          "base_uri": "https://localhost:8080/",
          "height": 282
        },
        "id": "aymcldJJOChI",
        "outputId": "172cecd0-042e-495d-f791-2fa044d4a6b8"
      },
      "source": [
        "pr2=[]\n",
        "for k in range(1, 15):\n",
        "    knn = KNeighborsClassifier(n_neighbors=k, weights='uniform', metric='euclidean')\n",
        "    knn.fit(x_train, y_train)\n",
        "    y_hat2=knn.predict(x_test)\n",
        "    pr2.append(calc_acc(y_hat2, y_test))\n",
        "plt.plot(range(1, 15), pr2)"
      ],
      "execution_count": 149,
      "outputs": [
        {
          "output_type": "execute_result",
          "data": {
            "text/plain": [
              "[<matplotlib.lines.Line2D at 0x7fd9e52f9a58>]"
            ]
          },
          "metadata": {
            "tags": []
          },
          "execution_count": 149
        },
        {
          "output_type": "display_data",
          "data": {
            "image/png": "[encoded data removed]",
            "text/plain": [
              "<Figure size 432x288 with 1 Axes>"
            ]
          },
          "metadata": {
            "tags": [],
            "needs_background": "light"
          }
        }
      ]
    },
    {
      "cell_type": "code",
      "metadata": {
        "colab": {
          "base_uri": "https://localhost:8080/"
        },
        "id": "uMmQJAilOMSt",
        "outputId": "3165754a-d146-4ffa-a928-af10d6d953b3"
      },
      "source": [
        "cross = []\n",
        "g_acc = 0\n",
        "for i in range(0,5):\n",
        "    X_train, X_test, Y_train, Y_test = train_test_split(file, y)\n",
        "    acc = 0\n",
        "    for k in range(1, 10):\n",
        "        knn = KNeighborsClassifier(n_neighbors=k, weights='uniform', metric='euclidean').fit(X_train, Y_train)\n",
        "        y_pred = knn.predict(X_test)\n",
        "        if calc_acc(y_pred, y_test) > acc:\n",
        "            acc = calc_acc(y_pred, y_test)\n",
        "            mod = knn\n",
        "            if acc > g_acc:\n",
        "                g_acc = acc\n",
        "    cross.append([mod,acc])\n",
        "for i in range(0,5):\n",
        "    if cross[i][1] == g_acc:\n",
        "        print(cross[i])\n",
        "        \n",
        "cross"
      ],
      "execution_count": 150,
      "outputs": [
        {
          "output_type": "stream",
          "text": [
            "[KNeighborsClassifier(algorithm='auto', leaf_size=30, metric='euclidean',\n",
            "                     metric_params=None, n_jobs=None, n_neighbors=8, p=2,\n",
            "                     weights='uniform'), 0.43478260869565216]\n"
          ],
          "name": "stdout"
        },
        {
          "output_type": "execute_result",
          "data": {
            "text/plain": [
              "[[KNeighborsClassifier(algorithm='auto', leaf_size=30, metric='euclidean',\n",
              "                       metric_params=None, n_jobs=None, n_neighbors=8, p=2,\n",
              "                       weights='uniform'), 0.3804347826086957],\n",
              " [KNeighborsClassifier(algorithm='auto', leaf_size=30, metric='euclidean',\n",
              "                       metric_params=None, n_jobs=None, n_neighbors=8, p=2,\n",
              "                       weights='uniform'), 0.43478260869565216],\n",
              " [KNeighborsClassifier(algorithm='auto', leaf_size=30, metric='euclidean',\n",
              "                       metric_params=None, n_jobs=None, n_neighbors=7, p=2,\n",
              "                       weights='uniform'), 0.2717391304347826],\n",
              " [KNeighborsClassifier(algorithm='auto', leaf_size=30, metric='euclidean',\n",
              "                       metric_params=None, n_jobs=None, n_neighbors=6, p=2,\n",
              "                       weights='uniform'), 0.391304347826087],\n",
              " [KNeighborsClassifier(algorithm='auto', leaf_size=30, metric='euclidean',\n",
              "                       metric_params=None, n_jobs=None, n_neighbors=2, p=2,\n",
              "                       weights='uniform'), 0.34782608695652173]]"
            ]
          },
          "metadata": {
            "tags": []
          },
          "execution_count": 150
        }
      ]
    }
  ]
}